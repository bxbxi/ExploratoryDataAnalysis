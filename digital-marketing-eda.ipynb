{
 "metadata": {
  "kernelspec": {
   "language": "python",
   "display_name": "Python 3",
   "name": "python3"
  },
  "language_info": {
   "name": "python",
   "version": "3.10.13",
   "mimetype": "text/x-python",
   "codemirror_mode": {
    "name": "ipython",
    "version": 3
   },
   "pygments_lexer": "ipython3",
   "nbconvert_exporter": "python",
   "file_extension": ".py"
  },
  "kaggle": {
   "accelerator": "none",
   "dataSources": [
    {
     "sourceId": 8742946,
     "sourceType": "datasetVersion",
     "datasetId": 5249362
    }
   ],
   "dockerImageVersionId": 30746,
   "isInternetEnabled": true,
   "language": "python",
   "sourceType": "notebook",
   "isGpuEnabled": false
  }
 },
 "nbformat_minor": 4,
 "nbformat": 4,
 "cells": [
  {
   "cell_type": "code",
   "source": [
    "df = pd.read_csv('digital_marketing_campaign_dataset.csv')\n",
    "df.head()"
   ],
   "metadata": {
    "execution": {
     "iopub.status.busy": "2024-09-06T17:37:49.094651Z",
     "iopub.execute_input": "2024-09-06T17:37:49.095272Z",
     "iopub.status.idle": "2024-09-06T17:37:49.189473Z",
     "shell.execute_reply.started": "2024-09-06T17:37:49.095231Z",
     "shell.execute_reply": "2024-09-06T17:37:49.188225Z"
    },
    "trusted": true,
    "ExecuteTime": {
     "end_time": "2024-09-07T08:12:26.180566Z",
     "start_time": "2024-09-07T08:12:26.061172Z"
    }
   },
   "outputs": [
    {
     "data": {
      "text/plain": [
       "   CustomerID  Age  Gender  Income CampaignChannel CampaignType      AdSpend  \\\n",
       "0        8000   56  Female  136912    Social Media    Awareness  6497.870068   \n",
       "1        8001   69    Male   41760           Email    Retention  3898.668606   \n",
       "2        8002   46  Female   88456             PPC    Awareness  1546.429596   \n",
       "3        8003   32  Female   44085             PPC   Conversion   539.525936   \n",
       "4        8004   60  Female   83964             PPC   Conversion  1678.043573   \n",
       "\n",
       "   ClickThroughRate  ConversionRate  WebsiteVisits  PagesPerVisit  TimeOnSite  \\\n",
       "0          0.043919        0.088031              0       2.399017    7.396803   \n",
       "1          0.155725        0.182725             42       2.917138    5.352549   \n",
       "2          0.277490        0.076423              2       8.223619   13.794901   \n",
       "3          0.137611        0.088004             47       4.540939   14.688363   \n",
       "4          0.252851        0.109940              0       2.046847   13.993370   \n",
       "\n",
       "   SocialShares  EmailOpens  EmailClicks  PreviousPurchases  LoyaltyPoints  \\\n",
       "0            19           6            9                  4            688   \n",
       "1             5           2            7                  2           3459   \n",
       "2             0          11            2                  8           2337   \n",
       "3            89           2            2                  0           2463   \n",
       "4             6           6            6                  8           4345   \n",
       "\n",
       "  AdvertisingPlatform AdvertisingTool  Conversion  \n",
       "0            IsConfid      ToolConfid           1  \n",
       "1            IsConfid      ToolConfid           1  \n",
       "2            IsConfid      ToolConfid           1  \n",
       "3            IsConfid      ToolConfid           1  \n",
       "4            IsConfid      ToolConfid           1  "
      ],
      "text/html": [
       "<div>\n",
       "<style scoped>\n",
       "    .dataframe tbody tr th:only-of-type {\n",
       "        vertical-align: middle;\n",
       "    }\n",
       "\n",
       "    .dataframe tbody tr th {\n",
       "        vertical-align: top;\n",
       "    }\n",
       "\n",
       "    .dataframe thead th {\n",
       "        text-align: right;\n",
       "    }\n",
       "</style>\n",
       "<table border=\"1\" class=\"dataframe\">\n",
       "  <thead>\n",
       "    <tr style=\"text-align: right;\">\n",
       "      <th></th>\n",
       "      <th>CustomerID</th>\n",
       "      <th>Age</th>\n",
       "      <th>Gender</th>\n",
       "      <th>Income</th>\n",
       "      <th>CampaignChannel</th>\n",
       "      <th>CampaignType</th>\n",
       "      <th>AdSpend</th>\n",
       "      <th>ClickThroughRate</th>\n",
       "      <th>ConversionRate</th>\n",
       "      <th>WebsiteVisits</th>\n",
       "      <th>PagesPerVisit</th>\n",
       "      <th>TimeOnSite</th>\n",
       "      <th>SocialShares</th>\n",
       "      <th>EmailOpens</th>\n",
       "      <th>EmailClicks</th>\n",
       "      <th>PreviousPurchases</th>\n",
       "      <th>LoyaltyPoints</th>\n",
       "      <th>AdvertisingPlatform</th>\n",
       "      <th>AdvertisingTool</th>\n",
       "      <th>Conversion</th>\n",
       "    </tr>\n",
       "  </thead>\n",
       "  <tbody>\n",
       "    <tr>\n",
       "      <th>0</th>\n",
       "      <td>8000</td>\n",
       "      <td>56</td>\n",
       "      <td>Female</td>\n",
       "      <td>136912</td>\n",
       "      <td>Social Media</td>\n",
       "      <td>Awareness</td>\n",
       "      <td>6497.870068</td>\n",
       "      <td>0.043919</td>\n",
       "      <td>0.088031</td>\n",
       "      <td>0</td>\n",
       "      <td>2.399017</td>\n",
       "      <td>7.396803</td>\n",
       "      <td>19</td>\n",
       "      <td>6</td>\n",
       "      <td>9</td>\n",
       "      <td>4</td>\n",
       "      <td>688</td>\n",
       "      <td>IsConfid</td>\n",
       "      <td>ToolConfid</td>\n",
       "      <td>1</td>\n",
       "    </tr>\n",
       "    <tr>\n",
       "      <th>1</th>\n",
       "      <td>8001</td>\n",
       "      <td>69</td>\n",
       "      <td>Male</td>\n",
       "      <td>41760</td>\n",
       "      <td>Email</td>\n",
       "      <td>Retention</td>\n",
       "      <td>3898.668606</td>\n",
       "      <td>0.155725</td>\n",
       "      <td>0.182725</td>\n",
       "      <td>42</td>\n",
       "      <td>2.917138</td>\n",
       "      <td>5.352549</td>\n",
       "      <td>5</td>\n",
       "      <td>2</td>\n",
       "      <td>7</td>\n",
       "      <td>2</td>\n",
       "      <td>3459</td>\n",
       "      <td>IsConfid</td>\n",
       "      <td>ToolConfid</td>\n",
       "      <td>1</td>\n",
       "    </tr>\n",
       "    <tr>\n",
       "      <th>2</th>\n",
       "      <td>8002</td>\n",
       "      <td>46</td>\n",
       "      <td>Female</td>\n",
       "      <td>88456</td>\n",
       "      <td>PPC</td>\n",
       "      <td>Awareness</td>\n",
       "      <td>1546.429596</td>\n",
       "      <td>0.277490</td>\n",
       "      <td>0.076423</td>\n",
       "      <td>2</td>\n",
       "      <td>8.223619</td>\n",
       "      <td>13.794901</td>\n",
       "      <td>0</td>\n",
       "      <td>11</td>\n",
       "      <td>2</td>\n",
       "      <td>8</td>\n",
       "      <td>2337</td>\n",
       "      <td>IsConfid</td>\n",
       "      <td>ToolConfid</td>\n",
       "      <td>1</td>\n",
       "    </tr>\n",
       "    <tr>\n",
       "      <th>3</th>\n",
       "      <td>8003</td>\n",
       "      <td>32</td>\n",
       "      <td>Female</td>\n",
       "      <td>44085</td>\n",
       "      <td>PPC</td>\n",
       "      <td>Conversion</td>\n",
       "      <td>539.525936</td>\n",
       "      <td>0.137611</td>\n",
       "      <td>0.088004</td>\n",
       "      <td>47</td>\n",
       "      <td>4.540939</td>\n",
       "      <td>14.688363</td>\n",
       "      <td>89</td>\n",
       "      <td>2</td>\n",
       "      <td>2</td>\n",
       "      <td>0</td>\n",
       "      <td>2463</td>\n",
       "      <td>IsConfid</td>\n",
       "      <td>ToolConfid</td>\n",
       "      <td>1</td>\n",
       "    </tr>\n",
       "    <tr>\n",
       "      <th>4</th>\n",
       "      <td>8004</td>\n",
       "      <td>60</td>\n",
       "      <td>Female</td>\n",
       "      <td>83964</td>\n",
       "      <td>PPC</td>\n",
       "      <td>Conversion</td>\n",
       "      <td>1678.043573</td>\n",
       "      <td>0.252851</td>\n",
       "      <td>0.109940</td>\n",
       "      <td>0</td>\n",
       "      <td>2.046847</td>\n",
       "      <td>13.993370</td>\n",
       "      <td>6</td>\n",
       "      <td>6</td>\n",
       "      <td>6</td>\n",
       "      <td>8</td>\n",
       "      <td>4345</td>\n",
       "      <td>IsConfid</td>\n",
       "      <td>ToolConfid</td>\n",
       "      <td>1</td>\n",
       "    </tr>\n",
       "  </tbody>\n",
       "</table>\n",
       "</div>"
      ]
     },
     "execution_count": 80,
     "metadata": {},
     "output_type": "execute_result"
    }
   ],
   "execution_count": 80
  },
  {
   "cell_type": "code",
   "source": "df.columns",
   "metadata": {
    "execution": {
     "iopub.status.busy": "2024-09-06T17:37:49.195351Z",
     "iopub.execute_input": "2024-09-06T17:37:49.195683Z",
     "iopub.status.idle": "2024-09-06T17:37:49.203239Z",
     "shell.execute_reply.started": "2024-09-06T17:37:49.195645Z",
     "shell.execute_reply": "2024-09-06T17:37:49.202119Z"
    },
    "trusted": true,
    "ExecuteTime": {
     "end_time": "2024-09-07T08:12:26.187644Z",
     "start_time": "2024-09-07T08:12:26.181572Z"
    }
   },
   "outputs": [
    {
     "data": {
      "text/plain": [
       "Index(['CustomerID', 'Age', 'Gender', 'Income', 'CampaignChannel',\n",
       "       'CampaignType', 'AdSpend', 'ClickThroughRate', 'ConversionRate',\n",
       "       'WebsiteVisits', 'PagesPerVisit', 'TimeOnSite', 'SocialShares',\n",
       "       'EmailOpens', 'EmailClicks', 'PreviousPurchases', 'LoyaltyPoints',\n",
       "       'AdvertisingPlatform', 'AdvertisingTool', 'Conversion'],\n",
       "      dtype='object')"
      ]
     },
     "execution_count": 81,
     "metadata": {},
     "output_type": "execute_result"
    }
   ],
   "execution_count": 81
  },
  {
   "cell_type": "code",
   "source": "df.info()",
   "metadata": {
    "execution": {
     "iopub.status.busy": "2024-09-06T17:37:49.204498Z",
     "iopub.execute_input": "2024-09-06T17:37:49.205848Z",
     "iopub.status.idle": "2024-09-06T17:37:49.237195Z",
     "shell.execute_reply.started": "2024-09-06T17:37:49.205814Z",
     "shell.execute_reply": "2024-09-06T17:37:49.236105Z"
    },
    "trusted": true,
    "ExecuteTime": {
     "end_time": "2024-09-07T08:12:26.229479Z",
     "start_time": "2024-09-07T08:12:26.188999Z"
    }
   },
   "outputs": [
    {
     "name": "stdout",
     "output_type": "stream",
     "text": [
      "<class 'pandas.core.frame.DataFrame'>\n",
      "RangeIndex: 8000 entries, 0 to 7999\n",
      "Data columns (total 20 columns):\n",
      " #   Column               Non-Null Count  Dtype  \n",
      "---  ------               --------------  -----  \n",
      " 0   CustomerID           8000 non-null   int64  \n",
      " 1   Age                  8000 non-null   int64  \n",
      " 2   Gender               8000 non-null   object \n",
      " 3   Income               8000 non-null   int64  \n",
      " 4   CampaignChannel      8000 non-null   object \n",
      " 5   CampaignType         8000 non-null   object \n",
      " 6   AdSpend              8000 non-null   float64\n",
      " 7   ClickThroughRate     8000 non-null   float64\n",
      " 8   ConversionRate       8000 non-null   float64\n",
      " 9   WebsiteVisits        8000 non-null   int64  \n",
      " 10  PagesPerVisit        8000 non-null   float64\n",
      " 11  TimeOnSite           8000 non-null   float64\n",
      " 12  SocialShares         8000 non-null   int64  \n",
      " 13  EmailOpens           8000 non-null   int64  \n",
      " 14  EmailClicks          8000 non-null   int64  \n",
      " 15  PreviousPurchases    8000 non-null   int64  \n",
      " 16  LoyaltyPoints        8000 non-null   int64  \n",
      " 17  AdvertisingPlatform  8000 non-null   object \n",
      " 18  AdvertisingTool      8000 non-null   object \n",
      " 19  Conversion           8000 non-null   int64  \n",
      "dtypes: float64(5), int64(10), object(5)\n",
      "memory usage: 1.2+ MB\n"
     ]
    }
   ],
   "execution_count": 82
  },
  {
   "cell_type": "code",
   "source": "df.describe()",
   "metadata": {
    "execution": {
     "iopub.status.busy": "2024-09-06T17:37:49.238522Z",
     "iopub.execute_input": "2024-09-06T17:37:49.238876Z",
     "iopub.status.idle": "2024-09-06T17:37:49.300252Z",
     "shell.execute_reply.started": "2024-09-06T17:37:49.238841Z",
     "shell.execute_reply": "2024-09-06T17:37:49.298873Z"
    },
    "trusted": true,
    "ExecuteTime": {
     "end_time": "2024-09-07T08:12:26.264793Z",
     "start_time": "2024-09-07T08:12:26.230485Z"
    }
   },
   "outputs": [
    {
     "data": {
      "text/plain": [
       "        CustomerID          Age         Income      AdSpend  ClickThroughRate  \\\n",
       "count   8000.00000  8000.000000    8000.000000  8000.000000       8000.000000   \n",
       "mean   11999.50000    43.625500   84664.196750  5000.944830          0.154829   \n",
       "std     2309.54541    14.902785   37580.387945  2838.038153          0.084007   \n",
       "min     8000.00000    18.000000   20014.000000   100.054813          0.010005   \n",
       "25%     9999.75000    31.000000   51744.500000  2523.221165          0.082635   \n",
       "50%    11999.50000    43.000000   84926.500000  5013.440044          0.154505   \n",
       "75%    13999.25000    56.000000  116815.750000  7407.989369          0.228207   \n",
       "max    15999.00000    69.000000  149986.000000  9997.914781          0.299968   \n",
       "\n",
       "       ConversionRate  WebsiteVisits  PagesPerVisit   TimeOnSite  \\\n",
       "count     8000.000000    8000.000000    8000.000000  8000.000000   \n",
       "mean         0.104389      24.751625       5.549299     7.727718   \n",
       "std          0.054878      14.312269       2.607358     4.228218   \n",
       "min          0.010018       0.000000       1.000428     0.501669   \n",
       "25%          0.056410      13.000000       3.302479     4.068340   \n",
       "50%          0.104046      25.000000       5.534257     7.682956   \n",
       "75%          0.152077      37.000000       7.835756    11.481468   \n",
       "max          0.199995      49.000000       9.999055    14.995311   \n",
       "\n",
       "       SocialShares   EmailOpens  EmailClicks  PreviousPurchases  \\\n",
       "count   8000.000000  8000.000000  8000.000000        8000.000000   \n",
       "mean      49.799750     9.476875     4.467375           4.485500   \n",
       "std       28.901165     5.711111     2.856564           2.888093   \n",
       "min        0.000000     0.000000     0.000000           0.000000   \n",
       "25%       25.000000     5.000000     2.000000           2.000000   \n",
       "50%       50.000000     9.000000     4.000000           4.000000   \n",
       "75%       75.000000    14.000000     7.000000           7.000000   \n",
       "max       99.000000    19.000000     9.000000           9.000000   \n",
       "\n",
       "       LoyaltyPoints   Conversion  \n",
       "count    8000.000000  8000.000000  \n",
       "mean     2490.268500     0.876500  \n",
       "std      1429.527162     0.329031  \n",
       "min         0.000000     0.000000  \n",
       "25%      1254.750000     1.000000  \n",
       "50%      2497.000000     1.000000  \n",
       "75%      3702.250000     1.000000  \n",
       "max      4999.000000     1.000000  "
      ],
      "text/html": [
       "<div>\n",
       "<style scoped>\n",
       "    .dataframe tbody tr th:only-of-type {\n",
       "        vertical-align: middle;\n",
       "    }\n",
       "\n",
       "    .dataframe tbody tr th {\n",
       "        vertical-align: top;\n",
       "    }\n",
       "\n",
       "    .dataframe thead th {\n",
       "        text-align: right;\n",
       "    }\n",
       "</style>\n",
       "<table border=\"1\" class=\"dataframe\">\n",
       "  <thead>\n",
       "    <tr style=\"text-align: right;\">\n",
       "      <th></th>\n",
       "      <th>CustomerID</th>\n",
       "      <th>Age</th>\n",
       "      <th>Income</th>\n",
       "      <th>AdSpend</th>\n",
       "      <th>ClickThroughRate</th>\n",
       "      <th>ConversionRate</th>\n",
       "      <th>WebsiteVisits</th>\n",
       "      <th>PagesPerVisit</th>\n",
       "      <th>TimeOnSite</th>\n",
       "      <th>SocialShares</th>\n",
       "      <th>EmailOpens</th>\n",
       "      <th>EmailClicks</th>\n",
       "      <th>PreviousPurchases</th>\n",
       "      <th>LoyaltyPoints</th>\n",
       "      <th>Conversion</th>\n",
       "    </tr>\n",
       "  </thead>\n",
       "  <tbody>\n",
       "    <tr>\n",
       "      <th>count</th>\n",
       "      <td>8000.00000</td>\n",
       "      <td>8000.000000</td>\n",
       "      <td>8000.000000</td>\n",
       "      <td>8000.000000</td>\n",
       "      <td>8000.000000</td>\n",
       "      <td>8000.000000</td>\n",
       "      <td>8000.000000</td>\n",
       "      <td>8000.000000</td>\n",
       "      <td>8000.000000</td>\n",
       "      <td>8000.000000</td>\n",
       "      <td>8000.000000</td>\n",
       "      <td>8000.000000</td>\n",
       "      <td>8000.000000</td>\n",
       "      <td>8000.000000</td>\n",
       "      <td>8000.000000</td>\n",
       "    </tr>\n",
       "    <tr>\n",
       "      <th>mean</th>\n",
       "      <td>11999.50000</td>\n",
       "      <td>43.625500</td>\n",
       "      <td>84664.196750</td>\n",
       "      <td>5000.944830</td>\n",
       "      <td>0.154829</td>\n",
       "      <td>0.104389</td>\n",
       "      <td>24.751625</td>\n",
       "      <td>5.549299</td>\n",
       "      <td>7.727718</td>\n",
       "      <td>49.799750</td>\n",
       "      <td>9.476875</td>\n",
       "      <td>4.467375</td>\n",
       "      <td>4.485500</td>\n",
       "      <td>2490.268500</td>\n",
       "      <td>0.876500</td>\n",
       "    </tr>\n",
       "    <tr>\n",
       "      <th>std</th>\n",
       "      <td>2309.54541</td>\n",
       "      <td>14.902785</td>\n",
       "      <td>37580.387945</td>\n",
       "      <td>2838.038153</td>\n",
       "      <td>0.084007</td>\n",
       "      <td>0.054878</td>\n",
       "      <td>14.312269</td>\n",
       "      <td>2.607358</td>\n",
       "      <td>4.228218</td>\n",
       "      <td>28.901165</td>\n",
       "      <td>5.711111</td>\n",
       "      <td>2.856564</td>\n",
       "      <td>2.888093</td>\n",
       "      <td>1429.527162</td>\n",
       "      <td>0.329031</td>\n",
       "    </tr>\n",
       "    <tr>\n",
       "      <th>min</th>\n",
       "      <td>8000.00000</td>\n",
       "      <td>18.000000</td>\n",
       "      <td>20014.000000</td>\n",
       "      <td>100.054813</td>\n",
       "      <td>0.010005</td>\n",
       "      <td>0.010018</td>\n",
       "      <td>0.000000</td>\n",
       "      <td>1.000428</td>\n",
       "      <td>0.501669</td>\n",
       "      <td>0.000000</td>\n",
       "      <td>0.000000</td>\n",
       "      <td>0.000000</td>\n",
       "      <td>0.000000</td>\n",
       "      <td>0.000000</td>\n",
       "      <td>0.000000</td>\n",
       "    </tr>\n",
       "    <tr>\n",
       "      <th>25%</th>\n",
       "      <td>9999.75000</td>\n",
       "      <td>31.000000</td>\n",
       "      <td>51744.500000</td>\n",
       "      <td>2523.221165</td>\n",
       "      <td>0.082635</td>\n",
       "      <td>0.056410</td>\n",
       "      <td>13.000000</td>\n",
       "      <td>3.302479</td>\n",
       "      <td>4.068340</td>\n",
       "      <td>25.000000</td>\n",
       "      <td>5.000000</td>\n",
       "      <td>2.000000</td>\n",
       "      <td>2.000000</td>\n",
       "      <td>1254.750000</td>\n",
       "      <td>1.000000</td>\n",
       "    </tr>\n",
       "    <tr>\n",
       "      <th>50%</th>\n",
       "      <td>11999.50000</td>\n",
       "      <td>43.000000</td>\n",
       "      <td>84926.500000</td>\n",
       "      <td>5013.440044</td>\n",
       "      <td>0.154505</td>\n",
       "      <td>0.104046</td>\n",
       "      <td>25.000000</td>\n",
       "      <td>5.534257</td>\n",
       "      <td>7.682956</td>\n",
       "      <td>50.000000</td>\n",
       "      <td>9.000000</td>\n",
       "      <td>4.000000</td>\n",
       "      <td>4.000000</td>\n",
       "      <td>2497.000000</td>\n",
       "      <td>1.000000</td>\n",
       "    </tr>\n",
       "    <tr>\n",
       "      <th>75%</th>\n",
       "      <td>13999.25000</td>\n",
       "      <td>56.000000</td>\n",
       "      <td>116815.750000</td>\n",
       "      <td>7407.989369</td>\n",
       "      <td>0.228207</td>\n",
       "      <td>0.152077</td>\n",
       "      <td>37.000000</td>\n",
       "      <td>7.835756</td>\n",
       "      <td>11.481468</td>\n",
       "      <td>75.000000</td>\n",
       "      <td>14.000000</td>\n",
       "      <td>7.000000</td>\n",
       "      <td>7.000000</td>\n",
       "      <td>3702.250000</td>\n",
       "      <td>1.000000</td>\n",
       "    </tr>\n",
       "    <tr>\n",
       "      <th>max</th>\n",
       "      <td>15999.00000</td>\n",
       "      <td>69.000000</td>\n",
       "      <td>149986.000000</td>\n",
       "      <td>9997.914781</td>\n",
       "      <td>0.299968</td>\n",
       "      <td>0.199995</td>\n",
       "      <td>49.000000</td>\n",
       "      <td>9.999055</td>\n",
       "      <td>14.995311</td>\n",
       "      <td>99.000000</td>\n",
       "      <td>19.000000</td>\n",
       "      <td>9.000000</td>\n",
       "      <td>9.000000</td>\n",
       "      <td>4999.000000</td>\n",
       "      <td>1.000000</td>\n",
       "    </tr>\n",
       "  </tbody>\n",
       "</table>\n",
       "</div>"
      ]
     },
     "execution_count": 83,
     "metadata": {},
     "output_type": "execute_result"
    }
   ],
   "execution_count": 83
  },
  {
   "cell_type": "code",
   "source": "df.isnull().sum()",
   "metadata": {
    "execution": {
     "iopub.status.busy": "2024-09-06T17:37:49.301774Z",
     "iopub.execute_input": "2024-09-06T17:37:49.302200Z",
     "iopub.status.idle": "2024-09-06T17:37:49.318871Z",
     "shell.execute_reply.started": "2024-09-06T17:37:49.302165Z",
     "shell.execute_reply": "2024-09-06T17:37:49.317444Z"
    },
    "trusted": true,
    "ExecuteTime": {
     "end_time": "2024-09-07T08:12:26.272355Z",
     "start_time": "2024-09-07T08:12:26.264793Z"
    }
   },
   "outputs": [
    {
     "data": {
      "text/plain": [
       "CustomerID             0\n",
       "Age                    0\n",
       "Gender                 0\n",
       "Income                 0\n",
       "CampaignChannel        0\n",
       "CampaignType           0\n",
       "AdSpend                0\n",
       "ClickThroughRate       0\n",
       "ConversionRate         0\n",
       "WebsiteVisits          0\n",
       "PagesPerVisit          0\n",
       "TimeOnSite             0\n",
       "SocialShares           0\n",
       "EmailOpens             0\n",
       "EmailClicks            0\n",
       "PreviousPurchases      0\n",
       "LoyaltyPoints          0\n",
       "AdvertisingPlatform    0\n",
       "AdvertisingTool        0\n",
       "Conversion             0\n",
       "dtype: int64"
      ]
     },
     "execution_count": 84,
     "metadata": {},
     "output_type": "execute_result"
    }
   ],
   "execution_count": 84
  },
  {
   "cell_type": "code",
   "source": "import matplotlib.pyplot as plt",
   "metadata": {
    "execution": {
     "iopub.status.busy": "2024-09-06T17:37:49.321115Z",
     "iopub.execute_input": "2024-09-06T17:37:49.321743Z",
     "iopub.status.idle": "2024-09-06T17:37:49.328174Z",
     "shell.execute_reply.started": "2024-09-06T17:37:49.321703Z",
     "shell.execute_reply": "2024-09-06T17:37:49.326600Z"
    },
    "trusted": true,
    "ExecuteTime": {
     "end_time": "2024-09-07T08:12:26.279152Z",
     "start_time": "2024-09-07T08:12:26.273398Z"
    }
   },
   "outputs": [],
   "execution_count": 85
  },
  {
   "cell_type": "markdown",
   "source": "# **Grouping Data**",
   "metadata": {}
  },
  {
   "cell_type": "markdown",
   "source": "1. How are the distrobutions of all the customer behavior features like after grouping the data by **age**?\n    \n    1.1. How are the conversion rate and the number of coverted customers when the customers in     different groups of **age** scale with different features?\n\n2.  How are the conversion rate and the number of coverted customers when the customers in     different groups of **age** scale?",
   "metadata": {}
  },
  {
   "cell_type": "code",
   "source": "df_age_grouped = df.groupby('Age').mean(numeric_only=True).reset_index()\ndf_age_grouped_sortby_income = df_age_grouped.sort_values('Income')",
   "metadata": {
    "execution": {
     "iopub.status.busy": "2024-09-06T17:37:49.330047Z",
     "iopub.execute_input": "2024-09-06T17:37:49.330466Z",
     "iopub.status.idle": "2024-09-06T17:37:49.351010Z",
     "shell.execute_reply.started": "2024-09-06T17:37:49.330427Z",
     "shell.execute_reply": "2024-09-06T17:37:49.349731Z"
    },
    "trusted": true,
    "ExecuteTime": {
     "end_time": "2024-09-07T08:12:26.301204Z",
     "start_time": "2024-09-07T08:12:26.289300Z"
    }
   },
   "outputs": [],
   "execution_count": 86
  },
  {
   "cell_type": "code",
   "source": "# ClickThroughRate, many times the ads are shown in front of the customers' eyes, \n# how possible the customers are going to click the ads?\ndf_age_grouped.ClickThroughRate.plot(kind='hist')\nplt.xlabel('ClickThroughRate')\nplt.ylabel('Frequency')\nplt.show()",
   "metadata": {
    "execution": {
     "iopub.status.busy": "2024-09-06T17:37:49.356621Z",
     "iopub.execute_input": "2024-09-06T17:37:49.357121Z",
     "iopub.status.idle": "2024-09-06T17:37:49.713240Z",
     "shell.execute_reply.started": "2024-09-06T17:37:49.357088Z",
     "shell.execute_reply": "2024-09-06T17:37:49.711789Z"
    },
    "trusted": true,
    "ExecuteTime": {
     "end_time": "2024-09-07T08:12:26.501266Z",
     "start_time": "2024-09-07T08:12:26.385606Z"
    }
   },
   "outputs": [
    {
     "data": {
      "text/plain": [
       "<Figure size 640x480 with 1 Axes>"
      ],
      "image/png": "[encoded data removed]"
     },
     "metadata": {},
     "output_type": "display_data"
    }
   ],
   "execution_count": 87
  },
  {
   "cell_type": "code",
   "source": "# ClickThroughRate, many times the ads are shown in front of the customers' eyes, \n# how possible the customers are going to click the ads?\ndf_age_grouped.WebsiteVisits.plot(kind='hist')\nplt.xlabel('WebsiteVisits')\nplt.ylabel('Frequency')\nplt.show()",
   "metadata": {
    "execution": {
     "iopub.status.busy": "2024-09-06T17:37:49.714867Z",
     "iopub.execute_input": "2024-09-06T17:37:49.715310Z",
     "iopub.status.idle": "2024-09-06T17:37:50.020310Z",
     "shell.execute_reply.started": "2024-09-06T17:37:49.715271Z",
     "shell.execute_reply": "2024-09-06T17:37:50.019087Z"
    },
    "trusted": true,
    "ExecuteTime": {
     "end_time": "2024-09-07T08:12:26.611325Z",
     "start_time": "2024-09-07T08:12:26.542986Z"
    }
   },
   "outputs": [
    {
     "data": {
      "text/plain": [
       "<Figure size 640x480 with 1 Axes>"
      ],
      "image/png": "[encoded data removed]"
     },
     "metadata": {},
     "output_type": "display_data"
    }
   ],
   "execution_count": 88
  },
  {
   "cell_type": "markdown",
   "source": "Looks like after grouping the data by age, most age groups have the ClickThroughRate between 0.145 and 0.16. Then the next question is \"What is the ratio of customers who are coverted (meaning this customer has bought something on the website after seeing the ads) in the group with the ClickThroughRate between 0.145 and 0.16?\"",
   "metadata": {}
  },
  {
   "cell_type": "code",
   "source": "df_ClickThroughRate = df[(df['ClickThroughRate']<0.16) & (df['ClickThroughRate']>0.145)]",
   "metadata": {
    "execution": {
     "iopub.status.busy": "2024-09-06T17:37:50.022076Z",
     "iopub.execute_input": "2024-09-06T17:37:50.022751Z",
     "iopub.status.idle": "2024-09-06T17:37:50.031252Z",
     "shell.execute_reply.started": "2024-09-06T17:37:50.022709Z",
     "shell.execute_reply": "2024-09-06T17:37:50.030033Z"
    },
    "trusted": true,
    "ExecuteTime": {
     "end_time": "2024-09-07T08:12:26.722368Z",
     "start_time": "2024-09-07T08:12:26.715917Z"
    }
   },
   "outputs": [],
   "execution_count": 89
  },
  {
   "cell_type": "code",
   "source": "df_ClickThroughRate.describe()",
   "metadata": {
    "execution": {
     "iopub.status.busy": "2024-09-06T17:37:50.032992Z",
     "iopub.execute_input": "2024-09-06T17:37:50.033720Z",
     "iopub.status.idle": "2024-09-06T17:37:50.107154Z",
     "shell.execute_reply.started": "2024-09-06T17:37:50.033677Z",
     "shell.execute_reply": "2024-09-06T17:37:50.106093Z"
    },
    "trusted": true,
    "ExecuteTime": {
     "end_time": "2024-09-07T08:12:26.999966Z",
     "start_time": "2024-09-07T08:12:26.979203Z"
    }
   },
   "outputs": [
    {
     "data": {
      "text/plain": [
       "         CustomerID         Age         Income      AdSpend  ClickThroughRate  \\\n",
       "count    446.000000  446.000000     446.000000   446.000000        446.000000   \n",
       "mean   12044.674888   43.849776   83634.912556  5056.168038          0.152650   \n",
       "std     2323.801666   15.601997   36722.908365  2887.372213          0.004352   \n",
       "min     8001.000000   18.000000   21208.000000   114.503431          0.145019   \n",
       "25%    10141.250000   30.000000   51352.750000  2485.888224          0.148871   \n",
       "50%    11996.000000   44.000000   85291.000000  5091.637136          0.152590   \n",
       "75%    14123.750000   58.000000  116028.500000  7434.442375          0.156539   \n",
       "max    15993.000000   69.000000  149802.000000  9997.002376          0.159919   \n",
       "\n",
       "       ConversionRate  WebsiteVisits  PagesPerVisit  TimeOnSite  SocialShares  \\\n",
       "count      446.000000     446.000000     446.000000  446.000000    446.000000   \n",
       "mean         0.106705      25.769058       5.582756    7.661210     48.242152   \n",
       "std          0.055895      14.408581       2.541067    4.241811     28.927179   \n",
       "min          0.010134       0.000000       1.048975    0.511751      0.000000   \n",
       "25%          0.056317      13.000000       3.371489    3.996753     23.000000   \n",
       "50%          0.105757      26.000000       5.765923    7.693972     47.000000   \n",
       "75%          0.155439      39.000000       7.803616   11.342561     73.000000   \n",
       "max          0.199938      49.000000       9.958714   14.978982     99.000000   \n",
       "\n",
       "       EmailOpens  EmailClicks  PreviousPurchases  LoyaltyPoints  Conversion  \n",
       "count  446.000000   446.000000         446.000000     446.000000  446.000000  \n",
       "mean     9.632287     4.560538           4.349776    2418.401345    0.894619  \n",
       "std      5.852435     2.849745           2.811467    1462.285515    0.307389  \n",
       "min      0.000000     0.000000           0.000000      11.000000    0.000000  \n",
       "25%      5.000000     2.000000           2.000000    1170.000000    1.000000  \n",
       "50%      9.000000     4.000000           4.000000    2369.500000    1.000000  \n",
       "75%     15.000000     7.000000           7.000000    3654.500000    1.000000  \n",
       "max     19.000000     9.000000           9.000000    4981.000000    1.000000  "
      ],
      "text/html": [
       "<div>\n",
       "<style scoped>\n",
       "    .dataframe tbody tr th:only-of-type {\n",
       "        vertical-align: middle;\n",
       "    }\n",
       "\n",
       "    .dataframe tbody tr th {\n",
       "        vertical-align: top;\n",
       "    }\n",
       "\n",
       "    .dataframe thead th {\n",
       "        text-align: right;\n",
       "    }\n",
       "</style>\n",
       "<table border=\"1\" class=\"dataframe\">\n",
       "  <thead>\n",
       "    <tr style=\"text-align: right;\">\n",
       "      <th></th>\n",
       "      <th>CustomerID</th>\n",
       "      <th>Age</th>\n",
       "      <th>Income</th>\n",
       "      <th>AdSpend</th>\n",
       "      <th>ClickThroughRate</th>\n",
       "      <th>ConversionRate</th>\n",
       "      <th>WebsiteVisits</th>\n",
       "      <th>PagesPerVisit</th>\n",
       "      <th>TimeOnSite</th>\n",
       "      <th>SocialShares</th>\n",
       "      <th>EmailOpens</th>\n",
       "      <th>EmailClicks</th>\n",
       "      <th>PreviousPurchases</th>\n",
       "      <th>LoyaltyPoints</th>\n",
       "      <th>Conversion</th>\n",
       "    </tr>\n",
       "  </thead>\n",
       "  <tbody>\n",
       "    <tr>\n",
       "      <th>count</th>\n",
       "      <td>446.000000</td>\n",
       "      <td>446.000000</td>\n",
       "      <td>446.000000</td>\n",
       "      <td>446.000000</td>\n",
       "      <td>446.000000</td>\n",
       "      <td>446.000000</td>\n",
       "      <td>446.000000</td>\n",
       "      <td>446.000000</td>\n",
       "      <td>446.000000</td>\n",
       "      <td>446.000000</td>\n",
       "      <td>446.000000</td>\n",
       "      <td>446.000000</td>\n",
       "      <td>446.000000</td>\n",
       "      <td>446.000000</td>\n",
       "      <td>446.000000</td>\n",
       "    </tr>\n",
       "    <tr>\n",
       "      <th>mean</th>\n",
       "      <td>12044.674888</td>\n",
       "      <td>43.849776</td>\n",
       "      <td>83634.912556</td>\n",
       "      <td>5056.168038</td>\n",
       "      <td>0.152650</td>\n",
       "      <td>0.106705</td>\n",
       "      <td>25.769058</td>\n",
       "      <td>5.582756</td>\n",
       "      <td>7.661210</td>\n",
       "      <td>48.242152</td>\n",
       "      <td>9.632287</td>\n",
       "      <td>4.560538</td>\n",
       "      <td>4.349776</td>\n",
       "      <td>2418.401345</td>\n",
       "      <td>0.894619</td>\n",
       "    </tr>\n",
       "    <tr>\n",
       "      <th>std</th>\n",
       "      <td>2323.801666</td>\n",
       "      <td>15.601997</td>\n",
       "      <td>36722.908365</td>\n",
       "      <td>2887.372213</td>\n",
       "      <td>0.004352</td>\n",
       "      <td>0.055895</td>\n",
       "      <td>14.408581</td>\n",
       "      <td>2.541067</td>\n",
       "      <td>4.241811</td>\n",
       "      <td>28.927179</td>\n",
       "      <td>5.852435</td>\n",
       "      <td>2.849745</td>\n",
       "      <td>2.811467</td>\n",
       "      <td>1462.285515</td>\n",
       "      <td>0.307389</td>\n",
       "    </tr>\n",
       "    <tr>\n",
       "      <th>min</th>\n",
       "      <td>8001.000000</td>\n",
       "      <td>18.000000</td>\n",
       "      <td>21208.000000</td>\n",
       "      <td>114.503431</td>\n",
       "      <td>0.145019</td>\n",
       "      <td>0.010134</td>\n",
       "      <td>0.000000</td>\n",
       "      <td>1.048975</td>\n",
       "      <td>0.511751</td>\n",
       "      <td>0.000000</td>\n",
       "      <td>0.000000</td>\n",
       "      <td>0.000000</td>\n",
       "      <td>0.000000</td>\n",
       "      <td>11.000000</td>\n",
       "      <td>0.000000</td>\n",
       "    </tr>\n",
       "    <tr>\n",
       "      <th>25%</th>\n",
       "      <td>10141.250000</td>\n",
       "      <td>30.000000</td>\n",
       "      <td>51352.750000</td>\n",
       "      <td>2485.888224</td>\n",
       "      <td>0.148871</td>\n",
       "      <td>0.056317</td>\n",
       "      <td>13.000000</td>\n",
       "      <td>3.371489</td>\n",
       "      <td>3.996753</td>\n",
       "      <td>23.000000</td>\n",
       "      <td>5.000000</td>\n",
       "      <td>2.000000</td>\n",
       "      <td>2.000000</td>\n",
       "      <td>1170.000000</td>\n",
       "      <td>1.000000</td>\n",
       "    </tr>\n",
       "    <tr>\n",
       "      <th>50%</th>\n",
       "      <td>11996.000000</td>\n",
       "      <td>44.000000</td>\n",
       "      <td>85291.000000</td>\n",
       "      <td>5091.637136</td>\n",
       "      <td>0.152590</td>\n",
       "      <td>0.105757</td>\n",
       "      <td>26.000000</td>\n",
       "      <td>5.765923</td>\n",
       "      <td>7.693972</td>\n",
       "      <td>47.000000</td>\n",
       "      <td>9.000000</td>\n",
       "      <td>4.000000</td>\n",
       "      <td>4.000000</td>\n",
       "      <td>2369.500000</td>\n",
       "      <td>1.000000</td>\n",
       "    </tr>\n",
       "    <tr>\n",
       "      <th>75%</th>\n",
       "      <td>14123.750000</td>\n",
       "      <td>58.000000</td>\n",
       "      <td>116028.500000</td>\n",
       "      <td>7434.442375</td>\n",
       "      <td>0.156539</td>\n",
       "      <td>0.155439</td>\n",
       "      <td>39.000000</td>\n",
       "      <td>7.803616</td>\n",
       "      <td>11.342561</td>\n",
       "      <td>73.000000</td>\n",
       "      <td>15.000000</td>\n",
       "      <td>7.000000</td>\n",
       "      <td>7.000000</td>\n",
       "      <td>3654.500000</td>\n",
       "      <td>1.000000</td>\n",
       "    </tr>\n",
       "    <tr>\n",
       "      <th>max</th>\n",
       "      <td>15993.000000</td>\n",
       "      <td>69.000000</td>\n",
       "      <td>149802.000000</td>\n",
       "      <td>9997.002376</td>\n",
       "      <td>0.159919</td>\n",
       "      <td>0.199938</td>\n",
       "      <td>49.000000</td>\n",
       "      <td>9.958714</td>\n",
       "      <td>14.978982</td>\n",
       "      <td>99.000000</td>\n",
       "      <td>19.000000</td>\n",
       "      <td>9.000000</td>\n",
       "      <td>9.000000</td>\n",
       "      <td>4981.000000</td>\n",
       "      <td>1.000000</td>\n",
       "    </tr>\n",
       "  </tbody>\n",
       "</table>\n",
       "</div>"
      ]
     },
     "execution_count": 90,
     "metadata": {},
     "output_type": "execute_result"
    }
   ],
   "execution_count": 90
  },
  {
   "cell_type": "markdown",
   "source": "It can be seen that the mean value of coversion in the age groups with a ClickThroughRate between 0.145 and 0.16 is 0.89, which means 89% of customers have bought products. \n\nThus, the first conclusion is that if the ClickThroughRate is higher than 0.145, the customer is very likely to buy products after clicking the link of the ads.",
   "metadata": {}
  },
  {
   "cell_type": "code",
   "source": "df.Gender.value_counts().plot(kind='pie',autopct='%1.1f%%')\nplt.ylabel('')\nplt.show()",
   "metadata": {
    "execution": {
     "iopub.status.busy": "2024-09-06T17:37:50.109102Z",
     "iopub.execute_input": "2024-09-06T17:37:50.109901Z",
     "iopub.status.idle": "2024-09-06T17:37:50.267216Z",
     "shell.execute_reply.started": "2024-09-06T17:37:50.109859Z",
     "shell.execute_reply": "2024-09-06T17:37:50.265971Z"
    },
    "trusted": true,
    "ExecuteTime": {
     "end_time": "2024-09-07T08:12:27.161364Z",
     "start_time": "2024-09-07T08:12:27.119342Z"
    }
   },
   "outputs": [
    {
     "data": {
      "text/plain": [
       "<Figure size 640x480 with 1 Axes>"
      ],
      "image/png": "[encoded data removed]"
     },
     "metadata": {},
     "output_type": "display_data"
    }
   ],
   "execution_count": 91
  },
  {
   "cell_type": "code",
   "source": "df_gender_group = df.groupby('Gender').sum().reset_index()",
   "metadata": {
    "execution": {
     "iopub.status.busy": "2024-09-06T17:37:50.268479Z",
     "iopub.execute_input": "2024-09-06T17:37:50.268879Z",
     "iopub.status.idle": "2024-09-06T17:37:50.339954Z",
     "shell.execute_reply.started": "2024-09-06T17:37:50.268843Z",
     "shell.execute_reply": "2024-09-06T17:37:50.338870Z"
    },
    "trusted": true,
    "ExecuteTime": {
     "end_time": "2024-09-07T08:12:27.216241Z",
     "start_time": "2024-09-07T08:12:27.164374Z"
    }
   },
   "outputs": [],
   "execution_count": 92
  },
  {
   "cell_type": "code",
   "source": "df_gender_group.head()",
   "metadata": {
    "execution": {
     "iopub.status.busy": "2024-09-06T17:37:50.342154Z",
     "iopub.execute_input": "2024-09-06T17:37:50.343010Z",
     "iopub.status.idle": "2024-09-06T17:37:50.369874Z",
     "shell.execute_reply.started": "2024-09-06T17:37:50.342952Z",
     "shell.execute_reply": "2024-09-06T17:37:50.368823Z"
    },
    "trusted": true,
    "ExecuteTime": {
     "end_time": "2024-09-07T08:12:27.259467Z",
     "start_time": "2024-09-07T08:12:27.249671Z"
    }
   },
   "outputs": [
    {
     "data": {
      "text/plain": [
       "   Gender  CustomerID     Age     Income  \\\n",
       "0  Female    58133689  211717  415779484   \n",
       "1    Male    37862311  137287  261534090   \n",
       "\n",
       "                                     CampaignChannel  \\\n",
       "0  Social MediaPPCPPCPPCSocial MediaReferralSocia...   \n",
       "1  EmailSocial MediaPPCSEOEmailSEOEmailEmailEmail...   \n",
       "\n",
       "                                        CampaignType       AdSpend  \\\n",
       "0  AwarenessAwarenessConversionConversionAwarenes...  2.421959e+07   \n",
       "1  RetentionAwarenessRetentionAwarenessConversion...  1.578797e+07   \n",
       "\n",
       "   ClickThroughRate  ConversionRate  WebsiteVisits  PagesPerVisit  \\\n",
       "0        749.407407       503.84885         119696   26844.395505   \n",
       "1        489.221786       331.26103          78317   17549.998233   \n",
       "\n",
       "     TimeOnSite  SocialShares  EmailOpens  EmailClicks  PreviousPurchases  \\\n",
       "0  37628.178788        240583       46226        21529              21666   \n",
       "1  24193.566512        157815       29589        14210              14218   \n",
       "\n",
       "   LoyaltyPoints                                AdvertisingPlatform  \\\n",
       "0       12024580  IsConfidIsConfidIsConfidIsConfidIsConfidIsConf...   \n",
       "1        7897568  IsConfidIsConfidIsConfidIsConfidIsConfidIsConf...   \n",
       "\n",
       "                                     AdvertisingTool  Conversion  \n",
       "0  ToolConfidToolConfidToolConfidToolConfidToolCo...        4240  \n",
       "1  ToolConfidToolConfidToolConfidToolConfidToolCo...        2772  "
      ],
      "text/html": [
       "<div>\n",
       "<style scoped>\n",
       "    .dataframe tbody tr th:only-of-type {\n",
       "        vertical-align: middle;\n",
       "    }\n",
       "\n",
       "    .dataframe tbody tr th {\n",
       "        vertical-align: top;\n",
       "    }\n",
       "\n",
       "    .dataframe thead th {\n",
       "        text-align: right;\n",
       "    }\n",
       "</style>\n",
       "<table border=\"1\" class=\"dataframe\">\n",
       "  <thead>\n",
       "    <tr style=\"text-align: right;\">\n",
       "      <th></th>\n",
       "      <th>Gender</th>\n",
       "      <th>CustomerID</th>\n",
       "      <th>Age</th>\n",
       "      <th>Income</th>\n",
       "      <th>CampaignChannel</th>\n",
       "      <th>CampaignType</th>\n",
       "      <th>AdSpend</th>\n",
       "      <th>ClickThroughRate</th>\n",
       "      <th>ConversionRate</th>\n",
       "      <th>WebsiteVisits</th>\n",
       "      <th>PagesPerVisit</th>\n",
       "      <th>TimeOnSite</th>\n",
       "      <th>SocialShares</th>\n",
       "      <th>EmailOpens</th>\n",
       "      <th>EmailClicks</th>\n",
       "      <th>PreviousPurchases</th>\n",
       "      <th>LoyaltyPoints</th>\n",
       "      <th>AdvertisingPlatform</th>\n",
       "      <th>AdvertisingTool</th>\n",
       "      <th>Conversion</th>\n",
       "    </tr>\n",
       "  </thead>\n",
       "  <tbody>\n",
       "    <tr>\n",
       "      <th>0</th>\n",
       "      <td>Female</td>\n",
       "      <td>58133689</td>\n",
       "      <td>211717</td>\n",
       "      <td>415779484</td>\n",
       "      <td>Social MediaPPCPPCPPCSocial MediaReferralSocia...</td>\n",
       "      <td>AwarenessAwarenessConversionConversionAwarenes...</td>\n",
       "      <td>2.421959e+07</td>\n",
       "      <td>749.407407</td>\n",
       "      <td>503.84885</td>\n",
       "      <td>119696</td>\n",
       "      <td>26844.395505</td>\n",
       "      <td>37628.178788</td>\n",
       "      <td>240583</td>\n",
       "      <td>46226</td>\n",
       "      <td>21529</td>\n",
       "      <td>21666</td>\n",
       "      <td>12024580</td>\n",
       "      <td>IsConfidIsConfidIsConfidIsConfidIsConfidIsConf...</td>\n",
       "      <td>ToolConfidToolConfidToolConfidToolConfidToolCo...</td>\n",
       "      <td>4240</td>\n",
       "    </tr>\n",
       "    <tr>\n",
       "      <th>1</th>\n",
       "      <td>Male</td>\n",
       "      <td>37862311</td>\n",
       "      <td>137287</td>\n",
       "      <td>261534090</td>\n",
       "      <td>EmailSocial MediaPPCSEOEmailSEOEmailEmailEmail...</td>\n",
       "      <td>RetentionAwarenessRetentionAwarenessConversion...</td>\n",
       "      <td>1.578797e+07</td>\n",
       "      <td>489.221786</td>\n",
       "      <td>331.26103</td>\n",
       "      <td>78317</td>\n",
       "      <td>17549.998233</td>\n",
       "      <td>24193.566512</td>\n",
       "      <td>157815</td>\n",
       "      <td>29589</td>\n",
       "      <td>14210</td>\n",
       "      <td>14218</td>\n",
       "      <td>7897568</td>\n",
       "      <td>IsConfidIsConfidIsConfidIsConfidIsConfidIsConf...</td>\n",
       "      <td>ToolConfidToolConfidToolConfidToolConfidToolCo...</td>\n",
       "      <td>2772</td>\n",
       "    </tr>\n",
       "  </tbody>\n",
       "</table>\n",
       "</div>"
      ]
     },
     "execution_count": 93,
     "metadata": {},
     "output_type": "execute_result"
    }
   ],
   "execution_count": 93
  },
  {
   "cell_type": "code",
   "source": "print('The rate of female customers who have bought products is',df_gender_group.loc[0,'Conversion']/df[df['Gender']=='Female'].Gender.count())\nprint('The rate of female customers who have bought products is',df_gender_group.loc[1,'Conversion']/df[df['Gender']=='Male'].Gender.count())",
   "metadata": {
    "execution": {
     "iopub.status.busy": "2024-09-06T17:37:50.371703Z",
     "iopub.execute_input": "2024-09-06T17:37:50.372493Z",
     "iopub.status.idle": "2024-09-06T17:37:50.390886Z",
     "shell.execute_reply.started": "2024-09-06T17:37:50.372453Z",
     "shell.execute_reply": "2024-09-06T17:37:50.388740Z"
    },
    "trusted": true,
    "ExecuteTime": {
     "end_time": "2024-09-07T08:12:27.355673Z",
     "start_time": "2024-09-07T08:12:27.347655Z"
    }
   },
   "outputs": [
    {
     "name": "stdout",
     "output_type": "stream",
     "text": [
      "The rate of female customers who have bought products is 0.8762140938210374\n",
      "The rate of female customers who have bought products is 0.8769376779500159\n"
     ]
    }
   ],
   "execution_count": 94
  },
  {
   "cell_type": "markdown",
   "source": "So, the ratios of customers who have bought products in both genders are very colse even though most customers who bought products are female. Then, the marketing department should focus more on how to satisfy the needs of the female customers while keeping an eye on the male customer group.",
   "metadata": {}
  },
  {
   "cell_type": "code",
   "source": "df.Income.plot(kind='hist')\nplt.show()",
   "metadata": {
    "execution": {
     "iopub.status.busy": "2024-09-06T17:37:50.392781Z",
     "iopub.execute_input": "2024-09-06T17:37:50.393351Z",
     "iopub.status.idle": "2024-09-06T17:37:50.670774Z",
     "shell.execute_reply.started": "2024-09-06T17:37:50.393309Z",
     "shell.execute_reply": "2024-09-06T17:37:50.669550Z"
    },
    "trusted": true,
    "ExecuteTime": {
     "end_time": "2024-09-07T08:12:27.626320Z",
     "start_time": "2024-09-07T08:12:27.559862Z"
    }
   },
   "outputs": [
    {
     "data": {
      "text/plain": [
       "<Figure size 640x480 with 1 Axes>"
      ],
      "image/png": "[encoded data removed]"
     },
     "metadata": {},
     "output_type": "display_data"
    }
   ],
   "execution_count": 95
  },
  {
   "cell_type": "code",
   "source": "df[df['Gender']=='Female']['Income'].plot(kind='hist')\nplt.show()",
   "metadata": {
    "execution": {
     "iopub.status.busy": "2024-09-06T17:37:50.672410Z",
     "iopub.execute_input": "2024-09-06T17:37:50.673042Z",
     "iopub.status.idle": "2024-09-06T17:37:50.956587Z",
     "shell.execute_reply.started": "2024-09-06T17:37:50.672982Z",
     "shell.execute_reply": "2024-09-06T17:37:50.955109Z"
    },
    "trusted": true,
    "ExecuteTime": {
     "end_time": "2024-09-07T08:12:27.730373Z",
     "start_time": "2024-09-07T08:12:27.672302Z"
    }
   },
   "outputs": [
    {
     "data": {
      "text/plain": [
       "<Figure size 640x480 with 1 Axes>"
      ],
      "image/png": "[encoded data removed]"
     },
     "metadata": {},
     "output_type": "display_data"
    }
   ],
   "execution_count": 96
  },
  {
   "cell_type": "code",
   "source": "df[df['Gender']=='Male']['Income'].plot(kind='hist')\nplt.show()",
   "metadata": {
    "execution": {
     "iopub.status.busy": "2024-09-06T17:37:50.958106Z",
     "iopub.execute_input": "2024-09-06T17:37:50.959296Z",
     "iopub.status.idle": "2024-09-06T17:37:51.249708Z",
     "shell.execute_reply.started": "2024-09-06T17:37:50.959254Z",
     "shell.execute_reply": "2024-09-06T17:37:51.248332Z"
    },
    "trusted": true,
    "ExecuteTime": {
     "end_time": "2024-09-07T08:12:27.798700Z",
     "start_time": "2024-09-07T08:12:27.731528Z"
    }
   },
   "outputs": [
    {
     "data": {
      "text/plain": [
       "<Figure size 640x480 with 1 Axes>"
      ],
      "image/png": "[encoded data removed]"
     },
     "metadata": {},
     "output_type": "display_data"
    }
   ],
   "execution_count": 97
  },
  {
   "cell_type": "code",
   "source": "df_sortby_age = df.sort_values(by='Age')\n# df_sortby_age[df_sortby_age['Gender']=='Male'].plot(kind='scatter',x=df_sortby_age[df_sortby_age['Gender']=='Male']['Age'],y=df_sortby_age[df_sortby_age['Gender']=='Male']['Income'])\n# plt.show()\n\nprint(df_sortby_age[df_sortby_age['Gender']=='Male']['Age'].head())\nprint(df_sortby_age[df_sortby_age['Gender']=='Male']['Income'].head())",
   "metadata": {
    "execution": {
     "iopub.status.busy": "2024-09-06T17:37:51.251423Z",
     "iopub.execute_input": "2024-09-06T17:37:51.252311Z",
     "iopub.status.idle": "2024-09-06T17:37:51.271993Z",
     "shell.execute_reply.started": "2024-09-06T17:37:51.252265Z",
     "shell.execute_reply": "2024-09-06T17:37:51.270777Z"
    },
    "trusted": true,
    "ExecuteTime": {
     "end_time": "2024-09-07T08:12:27.899143Z",
     "start_time": "2024-09-07T08:12:27.889089Z"
    }
   },
   "outputs": [
    {
     "name": "stdout",
     "output_type": "stream",
     "text": [
      "806     18\n",
      "2899    18\n",
      "823     18\n",
      "106     18\n",
      "845     18\n",
      "Name: Age, dtype: int64\n",
      "806     121639\n",
      "2899     50066\n",
      "823      36713\n",
      "106     116102\n",
      "845      60075\n",
      "Name: Income, dtype: int64\n"
     ]
    }
   ],
   "execution_count": 98
  },
  {
   "cell_type": "code",
   "source": "df_sortby_age[df_sortby_age['Age']==28]['Income'].plot(kind='hist')\nplt.show()",
   "metadata": {
    "execution": {
     "iopub.status.busy": "2024-09-06T17:37:51.273859Z",
     "iopub.execute_input": "2024-09-06T17:37:51.275099Z",
     "iopub.status.idle": "2024-09-06T17:37:51.551473Z",
     "shell.execute_reply.started": "2024-09-06T17:37:51.275050Z",
     "shell.execute_reply": "2024-09-06T17:37:51.549804Z"
    },
    "trusted": true,
    "ExecuteTime": {
     "end_time": "2024-09-07T08:12:28.013065Z",
     "start_time": "2024-09-07T08:12:27.954515Z"
    }
   },
   "outputs": [
    {
     "data": {
      "text/plain": [
       "<Figure size 640x480 with 1 Axes>"
      ],
      "image/png": "[encoded data removed]"
     },
     "metadata": {},
     "output_type": "display_data"
    }
   ],
   "execution_count": 99
  },
  {
   "cell_type": "code",
   "source": "df_sortby_age[df_sortby_age['Age']==50]['ClickThroughRate'].plot(kind='hist')\nplt.show()",
   "metadata": {
    "execution": {
     "iopub.status.busy": "2024-09-06T17:37:51.553238Z",
     "iopub.execute_input": "2024-09-06T17:37:51.553647Z",
     "iopub.status.idle": "2024-09-06T17:37:51.806635Z",
     "shell.execute_reply.started": "2024-09-06T17:37:51.553609Z",
     "shell.execute_reply": "2024-09-06T17:37:51.805480Z"
    },
    "trusted": true,
    "ExecuteTime": {
     "end_time": "2024-09-07T08:12:28.166868Z",
     "start_time": "2024-09-07T08:12:28.111195Z"
    }
   },
   "outputs": [
    {
     "data": {
      "text/plain": [
       "<Figure size 640x480 with 1 Axes>"
      ],
      "image/png": "[encoded data removed]"
     },
     "metadata": {},
     "output_type": "display_data"
    }
   ],
   "execution_count": 100
  },
  {
   "cell_type": "code",
   "source": "df_sortby_age.Age.unique()",
   "metadata": {
    "execution": {
     "iopub.status.busy": "2024-09-06T17:37:51.808043Z",
     "iopub.execute_input": "2024-09-06T17:37:51.808372Z",
     "iopub.status.idle": "2024-09-06T17:37:51.818360Z",
     "shell.execute_reply.started": "2024-09-06T17:37:51.808344Z",
     "shell.execute_reply": "2024-09-06T17:37:51.817035Z"
    },
    "trusted": true,
    "ExecuteTime": {
     "end_time": "2024-09-07T08:12:28.172897Z",
     "start_time": "2024-09-07T08:12:28.167874Z"
    }
   },
   "outputs": [
    {
     "data": {
      "text/plain": [
       "array([18, 19, 20, 21, 22, 23, 24, 25, 26, 27, 28, 29, 30, 31, 32, 33, 34,\n",
       "       35, 36, 37, 38, 39, 40, 41, 42, 43, 44, 45, 46, 47, 48, 49, 50, 51,\n",
       "       52, 53, 54, 55, 56, 57, 58, 59, 60, 61, 62, 63, 64, 65, 66, 67, 68,\n",
       "       69])"
      ]
     },
     "execution_count": 101,
     "metadata": {},
     "output_type": "execute_result"
    }
   ],
   "execution_count": 101
  },
  {
   "cell_type": "code",
   "source": "import pandas as pd\nimport matplotlib.pyplot as plt\n\n\ndf_age_grouped_sortby_income['Income'] = df_age_grouped_sortby_income['Income'].round(0)\n\n\ndf_age_grouped_sortby_income.plot(kind='scatter', x='Income', y='Conversion')\nplt.xlabel('Income')\nplt.ylabel('Conversion')\nplt.title('Scatter Plot of Average Income vs Average Conversion of Each Age')\nplt.show()",
   "metadata": {
    "execution": {
     "iopub.status.busy": "2024-09-06T17:37:51.820075Z",
     "iopub.execute_input": "2024-09-06T17:37:51.821163Z",
     "iopub.status.idle": "2024-09-06T17:37:52.120281Z",
     "shell.execute_reply.started": "2024-09-06T17:37:51.821118Z",
     "shell.execute_reply": "2024-09-06T17:37:52.118952Z"
    },
    "trusted": true,
    "ExecuteTime": {
     "end_time": "2024-09-07T08:12:28.338990Z",
     "start_time": "2024-09-07T08:12:28.255834Z"
    }
   },
   "outputs": [
    {
     "data": {
      "text/plain": [
       "<Figure size 640x480 with 1 Axes>"
      ],
      "image/png": "[encoded data removed]"
     },
     "metadata": {},
     "output_type": "display_data"
    }
   ],
   "execution_count": 102
  },
  {
   "cell_type": "code",
   "source": "print(df_age_grouped_sortby_income[['Age', 'Income']].head())\nprint('----------------')\nprint(df_age_grouped_sortby_income[['Age', 'Income']].tail())",
   "metadata": {
    "execution": {
     "iopub.status.busy": "2024-09-06T17:37:52.121740Z",
     "iopub.execute_input": "2024-09-06T17:37:52.122189Z",
     "iopub.status.idle": "2024-09-06T17:37:52.134737Z",
     "shell.execute_reply.started": "2024-09-06T17:37:52.122151Z",
     "shell.execute_reply": "2024-09-06T17:37:52.133580Z"
    },
    "trusted": true,
    "ExecuteTime": {
     "end_time": "2024-09-07T08:12:28.346376Z",
     "start_time": "2024-09-07T08:12:28.339996Z"
    }
   },
   "outputs": [
    {
     "name": "stdout",
     "output_type": "stream",
     "text": [
      "    Age   Income\n",
      "35   53  75967.0\n",
      "14   32  78724.0\n",
      "41   59  79051.0\n",
      "2    20  80539.0\n",
      "23   41  80676.0\n",
      "----------------\n",
      "    Age   Income\n",
      "44   62  88618.0\n",
      "30   48  88728.0\n",
      "20   38  88991.0\n",
      "49   67  89666.0\n",
      "48   66  89960.0\n"
     ]
    }
   ],
   "execution_count": 103
  },
  {
   "cell_type": "code",
   "source": "df_age_grouped_sortby_income[['Age', 'Income']].describe()",
   "metadata": {
    "execution": {
     "iopub.status.busy": "2024-09-06T17:37:52.136245Z",
     "iopub.execute_input": "2024-09-06T17:37:52.137440Z",
     "iopub.status.idle": "2024-09-06T17:37:52.165737Z",
     "shell.execute_reply.started": "2024-09-06T17:37:52.137398Z",
     "shell.execute_reply": "2024-09-06T17:37:52.164135Z"
    },
    "trusted": true,
    "ExecuteTime": {
     "end_time": "2024-09-07T08:12:28.426508Z",
     "start_time": "2024-09-07T08:12:28.417728Z"
    }
   },
   "outputs": [
    {
     "data": {
      "text/plain": [
       "             Age        Income\n",
       "count  52.000000     52.000000\n",
       "mean   43.500000  84644.192308\n",
       "std    15.154757   2924.746700\n",
       "min    18.000000  75967.000000\n",
       "25%    30.750000  83018.000000\n",
       "50%    43.500000  84921.000000\n",
       "75%    56.250000  86611.000000\n",
       "max    69.000000  89960.000000"
      ],
      "text/html": [
       "<div>\n",
       "<style scoped>\n",
       "    .dataframe tbody tr th:only-of-type {\n",
       "        vertical-align: middle;\n",
       "    }\n",
       "\n",
       "    .dataframe tbody tr th {\n",
       "        vertical-align: top;\n",
       "    }\n",
       "\n",
       "    .dataframe thead th {\n",
       "        text-align: right;\n",
       "    }\n",
       "</style>\n",
       "<table border=\"1\" class=\"dataframe\">\n",
       "  <thead>\n",
       "    <tr style=\"text-align: right;\">\n",
       "      <th></th>\n",
       "      <th>Age</th>\n",
       "      <th>Income</th>\n",
       "    </tr>\n",
       "  </thead>\n",
       "  <tbody>\n",
       "    <tr>\n",
       "      <th>count</th>\n",
       "      <td>52.000000</td>\n",
       "      <td>52.000000</td>\n",
       "    </tr>\n",
       "    <tr>\n",
       "      <th>mean</th>\n",
       "      <td>43.500000</td>\n",
       "      <td>84644.192308</td>\n",
       "    </tr>\n",
       "    <tr>\n",
       "      <th>std</th>\n",
       "      <td>15.154757</td>\n",
       "      <td>2924.746700</td>\n",
       "    </tr>\n",
       "    <tr>\n",
       "      <th>min</th>\n",
       "      <td>18.000000</td>\n",
       "      <td>75967.000000</td>\n",
       "    </tr>\n",
       "    <tr>\n",
       "      <th>25%</th>\n",
       "      <td>30.750000</td>\n",
       "      <td>83018.000000</td>\n",
       "    </tr>\n",
       "    <tr>\n",
       "      <th>50%</th>\n",
       "      <td>43.500000</td>\n",
       "      <td>84921.000000</td>\n",
       "    </tr>\n",
       "    <tr>\n",
       "      <th>75%</th>\n",
       "      <td>56.250000</td>\n",
       "      <td>86611.000000</td>\n",
       "    </tr>\n",
       "    <tr>\n",
       "      <th>max</th>\n",
       "      <td>69.000000</td>\n",
       "      <td>89960.000000</td>\n",
       "    </tr>\n",
       "  </tbody>\n",
       "</table>\n",
       "</div>"
      ]
     },
     "execution_count": 104,
     "metadata": {},
     "output_type": "execute_result"
    }
   ],
   "execution_count": 104
  },
  {
   "cell_type": "code",
   "source": "df_age_grouped_sortby_income[['Age', 'Income']]['Income'].plot(kind='hist')\nplt.show()",
   "metadata": {
    "execution": {
     "iopub.status.busy": "2024-09-06T17:37:52.174522Z",
     "iopub.execute_input": "2024-09-06T17:37:52.174904Z",
     "iopub.status.idle": "2024-09-06T17:37:52.436765Z",
     "shell.execute_reply.started": "2024-09-06T17:37:52.174872Z",
     "shell.execute_reply": "2024-09-06T17:37:52.435625Z"
    },
    "trusted": true,
    "ExecuteTime": {
     "end_time": "2024-09-07T08:12:28.518302Z",
     "start_time": "2024-09-07T08:12:28.451916Z"
    }
   },
   "outputs": [
    {
     "data": {
      "text/plain": [
       "<Figure size 640x480 with 1 Axes>"
      ],
      "image/png": "[encoded data removed]"
     },
     "metadata": {},
     "output_type": "display_data"
    }
   ],
   "execution_count": 105
  },
  {
   "cell_type": "code",
   "source": "df.ClickThroughRate.plot(kind='hist')\nplt.show()",
   "metadata": {
    "execution": {
     "iopub.status.busy": "2024-09-06T17:37:52.438206Z",
     "iopub.execute_input": "2024-09-06T17:37:52.438554Z",
     "iopub.status.idle": "2024-09-06T17:37:52.713903Z",
     "shell.execute_reply.started": "2024-09-06T17:37:52.438525Z",
     "shell.execute_reply": "2024-09-06T17:37:52.712437Z"
    },
    "trusted": true,
    "ExecuteTime": {
     "end_time": "2024-09-07T08:12:28.635030Z",
     "start_time": "2024-09-07T08:12:28.565375Z"
    }
   },
   "outputs": [
    {
     "data": {
      "text/plain": [
       "<Figure size 640x480 with 1 Axes>"
      ],
      "image/png": "[encoded data removed]"
     },
     "metadata": {},
     "output_type": "display_data"
    }
   ],
   "execution_count": 106
  },
  {
   "cell_type": "code",
   "source": "df['ClickThroughRate'].unique().min()",
   "metadata": {
    "execution": {
     "iopub.status.busy": "2024-09-06T17:37:52.715531Z",
     "iopub.execute_input": "2024-09-06T17:37:52.716266Z",
     "iopub.status.idle": "2024-09-06T17:37:52.725803Z",
     "shell.execute_reply.started": "2024-09-06T17:37:52.716223Z",
     "shell.execute_reply": "2024-09-06T17:37:52.724457Z"
    },
    "trusted": true,
    "ExecuteTime": {
     "end_time": "2024-09-07T08:12:28.688656Z",
     "start_time": "2024-09-07T08:12:28.682887Z"
    }
   },
   "outputs": [
    {
     "data": {
      "text/plain": [
       "np.float64(0.010004853514801)"
      ]
     },
     "execution_count": 107,
     "metadata": {},
     "output_type": "execute_result"
    }
   ],
   "execution_count": 107
  },
  {
   "cell_type": "code",
   "source": "ClickThroughRate_group1 = df[(df['ClickThroughRate']>=0.01)&(df['ClickThroughRate']<0.1)]\nClickThroughRate_group2 = df[(df['ClickThroughRate']>=0.1)&(df['ClickThroughRate']<0.2)]\nClickThroughRate_group3 = df[(df['ClickThroughRate']>=0.2)&(df['ClickThroughRate']<=0.3)]\nprint(f'The ratio of customers who are converted with the ClickThroughRate between 0.01 and 0.1 is {round(ClickThroughRate_group1.Conversion.sum()/ClickThroughRate_group1.Conversion.count(),2)}.')\nprint(f'The ratio of customers who are converted with the ClickThroughRate between 0.1 and 0.2 is {round(ClickThroughRate_group2.Conversion.sum()/ClickThroughRate_group2.Conversion.count(),2)}.')\nprint(f'The ratio of customers who are converted with the ClickThroughRate between 0.2 and 0.3 is {round(ClickThroughRate_group3.Conversion.sum()/ClickThroughRate_group3.Conversion.count(),2)}.')",
   "metadata": {
    "execution": {
     "iopub.status.busy": "2024-09-06T17:37:52.727551Z",
     "iopub.execute_input": "2024-09-06T17:37:52.727967Z",
     "iopub.status.idle": "2024-09-06T17:37:52.756780Z",
     "shell.execute_reply.started": "2024-09-06T17:37:52.727930Z",
     "shell.execute_reply": "2024-09-06T17:37:52.755541Z"
    },
    "trusted": true,
    "ExecuteTime": {
     "end_time": "2024-09-07T08:12:28.869783Z",
     "start_time": "2024-09-07T08:12:28.854706Z"
    }
   },
   "outputs": [
    {
     "name": "stdout",
     "output_type": "stream",
     "text": [
      "The ratio of customers who are converted with the ClickThroughRate between 0.01 and 0.1 is 0.81.\n",
      "The ratio of customers who are converted with the ClickThroughRate between 0.1 and 0.2 is 0.91.\n",
      "The ratio of customers who are converted with the ClickThroughRate between 0.2 and 0.3 is 0.91.\n"
     ]
    }
   ],
   "execution_count": 108
  },
  {
   "cell_type": "markdown",
   "source": "So, it is concluded that the higher the rate that the customers click through the ads, the more possible the cuustomers would buy something.",
   "metadata": {}
  },
  {
   "cell_type": "code",
   "source": "df.WebsiteVisits.plot(kind='hist')\nplt.show()",
   "metadata": {
    "execution": {
     "iopub.status.busy": "2024-09-06T17:37:52.758517Z",
     "iopub.execute_input": "2024-09-06T17:37:52.759031Z",
     "iopub.status.idle": "2024-09-06T17:37:52.998528Z",
     "shell.execute_reply.started": "2024-09-06T17:37:52.758974Z",
     "shell.execute_reply": "2024-09-06T17:37:52.997280Z"
    },
    "trusted": true,
    "ExecuteTime": {
     "end_time": "2024-09-07T08:12:29.013117Z",
     "start_time": "2024-09-07T08:12:28.959824Z"
    }
   },
   "outputs": [
    {
     "data": {
      "text/plain": [
       "<Figure size 640x480 with 1 Axes>"
      ],
      "image/png": "[encoded data removed]"
     },
     "metadata": {},
     "output_type": "display_data"
    }
   ],
   "execution_count": 109
  },
  {
   "cell_type": "code",
   "source": "print(df.WebsiteVisits.unique().min())\nprint(df.WebsiteVisits.unique().max())",
   "metadata": {
    "execution": {
     "iopub.status.busy": "2024-09-06T17:37:53.000176Z",
     "iopub.execute_input": "2024-09-06T17:37:53.000576Z",
     "iopub.status.idle": "2024-09-06T17:37:53.008249Z",
     "shell.execute_reply.started": "2024-09-06T17:37:53.000533Z",
     "shell.execute_reply": "2024-09-06T17:37:53.007088Z"
    },
    "trusted": true,
    "ExecuteTime": {
     "end_time": "2024-09-07T08:12:29.025656Z",
     "start_time": "2024-09-07T08:12:29.021560Z"
    }
   },
   "outputs": [
    {
     "name": "stdout",
     "output_type": "stream",
     "text": [
      "0\n",
      "49\n"
     ]
    }
   ],
   "execution_count": 110
  },
  {
   "cell_type": "code",
   "source": "WebsiteVisits_group1 = df[(df['WebsiteVisits']>=0)&(df['WebsiteVisits']<16)]\nWebsiteVisits_group2 = df[(df['WebsiteVisits']>=16)&(df['WebsiteVisits']<32)]\nWebsiteVisits_group3 = df[(df['WebsiteVisits']>=32)&(df['WebsiteVisits']<=50)]\nprint(f'The ratio of customers who are converted and have visited the websites from 0 to 16 times is {round(WebsiteVisits_group1.Conversion.sum()/WebsiteVisits_group1.Conversion.count(),2)}.')\nprint(f'The ratio of customers who are converted and have visited the websites from 16 to 32 times is {round(WebsiteVisits_group2.Conversion.sum()/WebsiteVisits_group2.Conversion.count(),2)}.')\nprint(f'The ratio of customers who are converted and have visited the websites from 32 to 50 times is {round(WebsiteVisits_group3.Conversion.sum()/WebsiteVisits_group3.Conversion.count(),2)}.')",
   "metadata": {
    "execution": {
     "iopub.status.busy": "2024-09-06T17:37:53.009973Z",
     "iopub.execute_input": "2024-09-06T17:37:53.010335Z",
     "iopub.status.idle": "2024-09-06T17:37:53.027976Z",
     "shell.execute_reply.started": "2024-09-06T17:37:53.010306Z",
     "shell.execute_reply": "2024-09-06T17:37:53.026393Z"
    },
    "trusted": true,
    "ExecuteTime": {
     "end_time": "2024-09-07T08:12:29.122920Z",
     "start_time": "2024-09-07T08:12:29.111390Z"
    }
   },
   "outputs": [
    {
     "name": "stdout",
     "output_type": "stream",
     "text": [
      "The ratio of customers who are converted and have visited the websites from 0 to 16 times is 0.83.\n",
      "The ratio of customers who are converted and have visited the websites from 16 to 32 times is 0.9.\n",
      "The ratio of customers who are converted and have visited the websites from 32 to 50 times is 0.89.\n"
     ]
    }
   ],
   "execution_count": 111
  },
  {
   "cell_type": "markdown",
   "source": "So, it can also conclude that if customers have visited the websites more and more times, then the customers would be more likely to buy something on the websites.",
   "metadata": {}
  },
  {
   "cell_type": "code",
   "source": "df.PagesPerVisit.plot(kind='hist')\nplt.show()",
   "metadata": {
    "execution": {
     "iopub.status.busy": "2024-09-06T17:37:53.029660Z",
     "iopub.execute_input": "2024-09-06T17:37:53.030146Z",
     "iopub.status.idle": "2024-09-06T17:37:53.265428Z",
     "shell.execute_reply.started": "2024-09-06T17:37:53.030110Z",
     "shell.execute_reply": "2024-09-06T17:37:53.264193Z"
    },
    "trusted": true,
    "ExecuteTime": {
     "end_time": "2024-09-07T08:12:29.208754Z",
     "start_time": "2024-09-07T08:12:29.148037Z"
    }
   },
   "outputs": [
    {
     "data": {
      "text/plain": [
       "<Figure size 640x480 with 1 Axes>"
      ],
      "image/png": "[encoded data removed]"
     },
     "metadata": {},
     "output_type": "display_data"
    }
   ],
   "execution_count": 112
  },
  {
   "cell_type": "code",
   "source": "print(df.PagesPerVisit.unique().min())\nprint(df.PagesPerVisit.unique().max())",
   "metadata": {
    "execution": {
     "iopub.status.busy": "2024-09-06T17:37:53.266836Z",
     "iopub.execute_input": "2024-09-06T17:37:53.267895Z",
     "iopub.status.idle": "2024-09-06T17:37:53.275776Z",
     "shell.execute_reply.started": "2024-09-06T17:37:53.267850Z",
     "shell.execute_reply": "2024-09-06T17:37:53.274363Z"
    },
    "trusted": true,
    "ExecuteTime": {
     "end_time": "2024-09-07T08:12:29.260298Z",
     "start_time": "2024-09-07T08:12:29.255950Z"
    }
   },
   "outputs": [
    {
     "name": "stdout",
     "output_type": "stream",
     "text": [
      "1.0004278505451207\n",
      "9.999055371467607\n"
     ]
    }
   ],
   "execution_count": 113
  },
  {
   "cell_type": "code",
   "source": "PagesPerVisit_group1 = df[(df['PagesPerVisit']>=0)&(df['PagesPerVisit']<3)]\nPagesPerVisit_group2 = df[(df['PagesPerVisit']>=3)&(df['PagesPerVisit']<6)]\nPagesPerVisit_group3 = df[(df['PagesPerVisit']>=6)&(df['PagesPerVisit']<=10)]\nprint(f'The ratio of customers who are converted and have visited from 0 to 3 websites is {round(PagesPerVisit_group1.Conversion.sum()/PagesPerVisit_group1.Conversion.count(),2)}.')\nprint(f'The ratio of customers who are converted and have visited from 3 to 6 websites is {round(PagesPerVisit_group2.Conversion.sum()/PagesPerVisit_group2.Conversion.count(),2)}.')\nprint(f'The ratio of customers who are converted and have visited from 6 to 10 websites is {round(PagesPerVisit_group3.Conversion.sum()/PagesPerVisit_group3.Conversion.count(),2)}.')",
   "metadata": {
    "execution": {
     "iopub.status.busy": "2024-09-06T17:37:53.278361Z",
     "iopub.execute_input": "2024-09-06T17:37:53.279060Z",
     "iopub.status.idle": "2024-09-06T17:37:53.297863Z",
     "shell.execute_reply.started": "2024-09-06T17:37:53.278982Z",
     "shell.execute_reply": "2024-09-06T17:37:53.296397Z"
    },
    "trusted": true,
    "ExecuteTime": {
     "end_time": "2024-09-07T08:12:29.362830Z",
     "start_time": "2024-09-07T08:12:29.352488Z"
    }
   },
   "outputs": [
    {
     "name": "stdout",
     "output_type": "stream",
     "text": [
      "The ratio of customers who are converted and have visited from 0 to 3 websites is 0.78.\n",
      "The ratio of customers who are converted and have visited from 3 to 6 websites is 0.91.\n",
      "The ratio of customers who are converted and have visited from 6 to 10 websites is 0.9.\n"
     ]
    }
   ],
   "execution_count": 114
  },
  {
   "cell_type": "code",
   "source": "df.TimeOnSite.plot(kind='hist')\nplt.show()",
   "metadata": {
    "execution": {
     "iopub.status.busy": "2024-09-06T17:37:53.299558Z",
     "iopub.execute_input": "2024-09-06T17:37:53.299974Z",
     "iopub.status.idle": "2024-09-06T17:37:53.550320Z",
     "shell.execute_reply.started": "2024-09-06T17:37:53.299938Z",
     "shell.execute_reply": "2024-09-06T17:37:53.549078Z"
    },
    "trusted": true,
    "ExecuteTime": {
     "end_time": "2024-09-07T08:12:29.474900Z",
     "start_time": "2024-09-07T08:12:29.413274Z"
    }
   },
   "outputs": [
    {
     "data": {
      "text/plain": [
       "<Figure size 640x480 with 1 Axes>"
      ],
      "image/png": "[encoded data removed]"
     },
     "metadata": {},
     "output_type": "display_data"
    }
   ],
   "execution_count": 115
  },
  {
   "cell_type": "markdown",
   "source": "So, it can be concluded that the more web pages the customers visit, the more likely the customers are going to buy something on the websties.",
   "metadata": {}
  },
  {
   "cell_type": "code",
   "source": "print(df.TimeOnSite.unique().min())\nprint(df.TimeOnSite.unique().max())",
   "metadata": {
    "execution": {
     "iopub.status.busy": "2024-09-06T17:37:53.551825Z",
     "iopub.execute_input": "2024-09-06T17:37:53.552202Z",
     "iopub.status.idle": "2024-09-06T17:37:53.559841Z",
     "shell.execute_reply.started": "2024-09-06T17:37:53.552173Z",
     "shell.execute_reply": "2024-09-06T17:37:53.558489Z"
    },
    "trusted": true,
    "ExecuteTime": {
     "end_time": "2024-09-07T08:12:29.491732Z",
     "start_time": "2024-09-07T08:12:29.487230Z"
    }
   },
   "outputs": [
    {
     "name": "stdout",
     "output_type": "stream",
     "text": [
      "0.5016690842279518\n",
      "14.995311407029616\n"
     ]
    }
   ],
   "execution_count": 116
  },
  {
   "cell_type": "code",
   "source": "TimeOnSite_group1 = df[(df['TimeOnSite']>=0)&(df['TimeOnSite']<5)]\nTimeOnSite_group2 = df[(df['TimeOnSite']>=5)&(df['TimeOnSite']<10)]\nTimeOnSite_group3 = df[(df['TimeOnSite']>=10)&(df['TimeOnSite']<=15)]\nprint(f'The ratio of customers who are converted and have spent from 0 to 5 hours is {round(TimeOnSite_group1.Conversion.sum()/TimeOnSite_group1.Conversion.count(),2)}.')\nprint(f'The ratio of customers who are converted and have spent from 5 to 10 hours is {round(TimeOnSite_group2.Conversion.sum()/TimeOnSite_group2.Conversion.count(),2)}.')\nprint(f'The ratio of customers who are converted and have spent from 10 to 15 hours is {round(TimeOnSite_group3.Conversion.sum()/TimeOnSite_group3.Conversion.count(),2)}.')",
   "metadata": {
    "execution": {
     "iopub.status.busy": "2024-09-06T17:37:53.561503Z",
     "iopub.execute_input": "2024-09-06T17:37:53.561907Z",
     "iopub.status.idle": "2024-09-06T17:37:53.579732Z",
     "shell.execute_reply.started": "2024-09-06T17:37:53.561877Z",
     "shell.execute_reply": "2024-09-06T17:37:53.578372Z"
    },
    "trusted": true,
    "ExecuteTime": {
     "end_time": "2024-09-07T08:12:29.552349Z",
     "start_time": "2024-09-07T08:12:29.538874Z"
    }
   },
   "outputs": [
    {
     "name": "stdout",
     "output_type": "stream",
     "text": [
      "The ratio of customers who are converted and have spent from 0 to 5 hours is 0.8.\n",
      "The ratio of customers who are converted and have spent from 5 to 10 hours is 0.91.\n",
      "The ratio of customers who are converted and have spent from 10 to 15 hours is 0.92.\n"
     ]
    }
   ],
   "execution_count": 117
  },
  {
   "cell_type": "markdown",
   "source": "So, it can be concluded that the more time the customers spend on the websites, the more likely the customers are going to buy something on the websites.",
   "metadata": {}
  },
  {
   "cell_type": "code",
   "source": "df.SocialShares.plot(kind='hist')\nplt.show()",
   "metadata": {
    "execution": {
     "iopub.status.busy": "2024-09-06T17:37:53.581741Z",
     "iopub.execute_input": "2024-09-06T17:37:53.582229Z",
     "iopub.status.idle": "2024-09-06T17:37:53.938318Z",
     "shell.execute_reply.started": "2024-09-06T17:37:53.582186Z",
     "shell.execute_reply": "2024-09-06T17:37:53.937153Z"
    },
    "trusted": true,
    "ExecuteTime": {
     "end_time": "2024-09-07T08:12:29.699129Z",
     "start_time": "2024-09-07T08:12:29.623820Z"
    }
   },
   "outputs": [
    {
     "data": {
      "text/plain": [
       "<Figure size 640x480 with 1 Axes>"
      ],
      "image/png": "[encoded data removed]"
     },
     "metadata": {},
     "output_type": "display_data"
    }
   ],
   "execution_count": 118
  },
  {
   "cell_type": "code",
   "source": "print(df.SocialShares.unique().min())\nprint(df.SocialShares.unique().max())",
   "metadata": {
    "execution": {
     "iopub.status.busy": "2024-09-06T17:37:53.939522Z",
     "iopub.execute_input": "2024-09-06T17:37:53.939833Z",
     "iopub.status.idle": "2024-09-06T17:37:53.946960Z",
     "shell.execute_reply.started": "2024-09-06T17:37:53.939806Z",
     "shell.execute_reply": "2024-09-06T17:37:53.945567Z"
    },
    "trusted": true,
    "ExecuteTime": {
     "end_time": "2024-09-07T08:12:29.720666Z",
     "start_time": "2024-09-07T08:12:29.715378Z"
    }
   },
   "outputs": [
    {
     "name": "stdout",
     "output_type": "stream",
     "text": [
      "0\n",
      "99\n"
     ]
    }
   ],
   "execution_count": 119
  },
  {
   "cell_type": "code",
   "source": "SocialShares_group1 = df[(df['SocialShares']>=0)&(df['SocialShares']<20)]\nSocialShares_group2 = df[(df['SocialShares']>=20)&(df['SocialShares']<40)]\nSocialShares_group3 = df[(df['SocialShares']>=40)&(df['SocialShares']<=60)]\nSocialShares_group4 = df[(df['SocialShares']>=80)&(df['SocialShares']<=100)]\nprint(f\"The ratio of customers who are converted and have shared the ads' info from 0 to 20 times is {round(SocialShares_group1.Conversion.sum()/SocialShares_group1.Conversion.count(),3)}.\")\nprint(f\"The ratio of customers who are converted and have spent the ads' info from 20 to 40 times is {round(SocialShares_group2.Conversion.sum()/SocialShares_group2.Conversion.count(),3)}.\")\nprint(f\"The ratio of customers who are converted and have spent spent the ads' info from 60 to 80 times is {round(SocialShares_group3.Conversion.sum()/SocialShares_group3.Conversion.count(),3)}.\")\nprint(f\"The ratio of customers who are converted and have spent spent the ads' info from 80 to 100 times is {round(SocialShares_group4.Conversion.sum()/SocialShares_group4.Conversion.count(),3)}.\")",
   "metadata": {
    "execution": {
     "iopub.status.busy": "2024-09-06T17:37:53.948739Z",
     "iopub.execute_input": "2024-09-06T17:37:53.949211Z",
     "iopub.status.idle": "2024-09-06T17:37:53.972106Z",
     "shell.execute_reply.started": "2024-09-06T17:37:53.949173Z",
     "shell.execute_reply": "2024-09-06T17:37:53.970115Z"
    },
    "trusted": true,
    "ExecuteTime": {
     "end_time": "2024-09-07T08:12:29.893646Z",
     "start_time": "2024-09-07T08:12:29.877454Z"
    }
   },
   "outputs": [
    {
     "name": "stdout",
     "output_type": "stream",
     "text": [
      "The ratio of customers who are converted and have shared the ads' info from 0 to 20 times is 0.88.\n",
      "The ratio of customers who are converted and have spent the ads' info from 20 to 40 times is 0.883.\n",
      "The ratio of customers who are converted and have spent spent the ads' info from 60 to 80 times is 0.872.\n",
      "The ratio of customers who are converted and have spent spent the ads' info from 80 to 100 times is 0.868.\n"
     ]
    }
   ],
   "execution_count": 120
  },
  {
   "cell_type": "markdown",
   "source": "It can be seen that the more times the customers share the ads info, the less likely they are going to buy something on the websites themselves. Unbelievable!",
   "metadata": {}
  },
  {
   "cell_type": "code",
   "source": "df['EmailClickThroughRate'] = df['EmailClicks']/df['EmailOpens']\ndf.head()",
   "metadata": {
    "execution": {
     "iopub.status.busy": "2024-09-06T17:37:53.973703Z",
     "iopub.execute_input": "2024-09-06T17:37:53.974201Z",
     "iopub.status.idle": "2024-09-06T17:37:54.002403Z",
     "shell.execute_reply.started": "2024-09-06T17:37:53.974169Z",
     "shell.execute_reply": "2024-09-06T17:37:54.001152Z"
    },
    "trusted": true,
    "ExecuteTime": {
     "end_time": "2024-09-07T08:12:30.026491Z",
     "start_time": "2024-09-07T08:12:30.011427Z"
    }
   },
   "outputs": [
    {
     "data": {
      "text/plain": [
       "   CustomerID  Age  Gender  Income CampaignChannel CampaignType      AdSpend  \\\n",
       "0        8000   56  Female  136912    Social Media    Awareness  6497.870068   \n",
       "1        8001   69    Male   41760           Email    Retention  3898.668606   \n",
       "2        8002   46  Female   88456             PPC    Awareness  1546.429596   \n",
       "3        8003   32  Female   44085             PPC   Conversion   539.525936   \n",
       "4        8004   60  Female   83964             PPC   Conversion  1678.043573   \n",
       "\n",
       "   ClickThroughRate  ConversionRate  WebsiteVisits  ...  TimeOnSite  \\\n",
       "0          0.043919        0.088031              0  ...    7.396803   \n",
       "1          0.155725        0.182725             42  ...    5.352549   \n",
       "2          0.277490        0.076423              2  ...   13.794901   \n",
       "3          0.137611        0.088004             47  ...   14.688363   \n",
       "4          0.252851        0.109940              0  ...   13.993370   \n",
       "\n",
       "   SocialShares  EmailOpens  EmailClicks  PreviousPurchases  LoyaltyPoints  \\\n",
       "0            19           6            9                  4            688   \n",
       "1             5           2            7                  2           3459   \n",
       "2             0          11            2                  8           2337   \n",
       "3            89           2            2                  0           2463   \n",
       "4             6           6            6                  8           4345   \n",
       "\n",
       "   AdvertisingPlatform AdvertisingTool Conversion  EmailClickThroughRate  \n",
       "0             IsConfid      ToolConfid          1               1.500000  \n",
       "1             IsConfid      ToolConfid          1               3.500000  \n",
       "2             IsConfid      ToolConfid          1               0.181818  \n",
       "3             IsConfid      ToolConfid          1               1.000000  \n",
       "4             IsConfid      ToolConfid          1               1.000000  \n",
       "\n",
       "[5 rows x 21 columns]"
      ],
      "text/html": [
       "<div>\n",
       "<style scoped>\n",
       "    .dataframe tbody tr th:only-of-type {\n",
       "        vertical-align: middle;\n",
       "    }\n",
       "\n",
       "    .dataframe tbody tr th {\n",
       "        vertical-align: top;\n",
       "    }\n",
       "\n",
       "    .dataframe thead th {\n",
       "        text-align: right;\n",
       "    }\n",
       "</style>\n",
       "<table border=\"1\" class=\"dataframe\">\n",
       "  <thead>\n",
       "    <tr style=\"text-align: right;\">\n",
       "      <th></th>\n",
       "      <th>CustomerID</th>\n",
       "      <th>Age</th>\n",
       "      <th>Gender</th>\n",
       "      <th>Income</th>\n",
       "      <th>CampaignChannel</th>\n",
       "      <th>CampaignType</th>\n",
       "      <th>AdSpend</th>\n",
       "      <th>ClickThroughRate</th>\n",
       "      <th>ConversionRate</th>\n",
       "      <th>WebsiteVisits</th>\n",
       "      <th>...</th>\n",
       "      <th>TimeOnSite</th>\n",
       "      <th>SocialShares</th>\n",
       "      <th>EmailOpens</th>\n",
       "      <th>EmailClicks</th>\n",
       "      <th>PreviousPurchases</th>\n",
       "      <th>LoyaltyPoints</th>\n",
       "      <th>AdvertisingPlatform</th>\n",
       "      <th>AdvertisingTool</th>\n",
       "      <th>Conversion</th>\n",
       "      <th>EmailClickThroughRate</th>\n",
       "    </tr>\n",
       "  </thead>\n",
       "  <tbody>\n",
       "    <tr>\n",
       "      <th>0</th>\n",
       "      <td>8000</td>\n",
       "      <td>56</td>\n",
       "      <td>Female</td>\n",
       "      <td>136912</td>\n",
       "      <td>Social Media</td>\n",
       "      <td>Awareness</td>\n",
       "      <td>6497.870068</td>\n",
       "      <td>0.043919</td>\n",
       "      <td>0.088031</td>\n",
       "      <td>0</td>\n",
       "      <td>...</td>\n",
       "      <td>7.396803</td>\n",
       "      <td>19</td>\n",
       "      <td>6</td>\n",
       "      <td>9</td>\n",
       "      <td>4</td>\n",
       "      <td>688</td>\n",
       "      <td>IsConfid</td>\n",
       "      <td>ToolConfid</td>\n",
       "      <td>1</td>\n",
       "      <td>1.500000</td>\n",
       "    </tr>\n",
       "    <tr>\n",
       "      <th>1</th>\n",
       "      <td>8001</td>\n",
       "      <td>69</td>\n",
       "      <td>Male</td>\n",
       "      <td>41760</td>\n",
       "      <td>Email</td>\n",
       "      <td>Retention</td>\n",
       "      <td>3898.668606</td>\n",
       "      <td>0.155725</td>\n",
       "      <td>0.182725</td>\n",
       "      <td>42</td>\n",
       "      <td>...</td>\n",
       "      <td>5.352549</td>\n",
       "      <td>5</td>\n",
       "      <td>2</td>\n",
       "      <td>7</td>\n",
       "      <td>2</td>\n",
       "      <td>3459</td>\n",
       "      <td>IsConfid</td>\n",
       "      <td>ToolConfid</td>\n",
       "      <td>1</td>\n",
       "      <td>3.500000</td>\n",
       "    </tr>\n",
       "    <tr>\n",
       "      <th>2</th>\n",
       "      <td>8002</td>\n",
       "      <td>46</td>\n",
       "      <td>Female</td>\n",
       "      <td>88456</td>\n",
       "      <td>PPC</td>\n",
       "      <td>Awareness</td>\n",
       "      <td>1546.429596</td>\n",
       "      <td>0.277490</td>\n",
       "      <td>0.076423</td>\n",
       "      <td>2</td>\n",
       "      <td>...</td>\n",
       "      <td>13.794901</td>\n",
       "      <td>0</td>\n",
       "      <td>11</td>\n",
       "      <td>2</td>\n",
       "      <td>8</td>\n",
       "      <td>2337</td>\n",
       "      <td>IsConfid</td>\n",
       "      <td>ToolConfid</td>\n",
       "      <td>1</td>\n",
       "      <td>0.181818</td>\n",
       "    </tr>\n",
       "    <tr>\n",
       "      <th>3</th>\n",
       "      <td>8003</td>\n",
       "      <td>32</td>\n",
       "      <td>Female</td>\n",
       "      <td>44085</td>\n",
       "      <td>PPC</td>\n",
       "      <td>Conversion</td>\n",
       "      <td>539.525936</td>\n",
       "      <td>0.137611</td>\n",
       "      <td>0.088004</td>\n",
       "      <td>47</td>\n",
       "      <td>...</td>\n",
       "      <td>14.688363</td>\n",
       "      <td>89</td>\n",
       "      <td>2</td>\n",
       "      <td>2</td>\n",
       "      <td>0</td>\n",
       "      <td>2463</td>\n",
       "      <td>IsConfid</td>\n",
       "      <td>ToolConfid</td>\n",
       "      <td>1</td>\n",
       "      <td>1.000000</td>\n",
       "    </tr>\n",
       "    <tr>\n",
       "      <th>4</th>\n",
       "      <td>8004</td>\n",
       "      <td>60</td>\n",
       "      <td>Female</td>\n",
       "      <td>83964</td>\n",
       "      <td>PPC</td>\n",
       "      <td>Conversion</td>\n",
       "      <td>1678.043573</td>\n",
       "      <td>0.252851</td>\n",
       "      <td>0.109940</td>\n",
       "      <td>0</td>\n",
       "      <td>...</td>\n",
       "      <td>13.993370</td>\n",
       "      <td>6</td>\n",
       "      <td>6</td>\n",
       "      <td>6</td>\n",
       "      <td>8</td>\n",
       "      <td>4345</td>\n",
       "      <td>IsConfid</td>\n",
       "      <td>ToolConfid</td>\n",
       "      <td>1</td>\n",
       "      <td>1.000000</td>\n",
       "    </tr>\n",
       "  </tbody>\n",
       "</table>\n",
       "<p>5 rows × 21 columns</p>\n",
       "</div>"
      ]
     },
     "execution_count": 121,
     "metadata": {},
     "output_type": "execute_result"
    }
   ],
   "execution_count": 121
  },
  {
   "cell_type": "code",
   "source": "EmailClickThroughRate_group1 = df[df['EmailClickThroughRate']>=1]\nEmailClickThroughRate_group2 = df[df['EmailClickThroughRate']<1]\nprint(f\"The ratio of customers who are converted and click the link in the email without clicking into the email is {round(EmailClickThroughRate_group1.Conversion.sum()/EmailClickThroughRate_group1.Conversion.count(),2)}.\")\nprint(f\"The ratio of customers who are converted and click the link in the email by clicking into the email is {round(EmailClickThroughRate_group2.Conversion.sum()/EmailClickThroughRate_group2.Conversion.count(),2)}.\")",
   "metadata": {
    "execution": {
     "iopub.status.busy": "2024-09-06T17:37:54.004124Z",
     "iopub.execute_input": "2024-09-06T17:37:54.004580Z",
     "iopub.status.idle": "2024-09-06T17:37:54.016562Z",
     "shell.execute_reply.started": "2024-09-06T17:37:54.004538Z",
     "shell.execute_reply": "2024-09-06T17:37:54.015386Z"
    },
    "trusted": true,
    "ExecuteTime": {
     "end_time": "2024-09-07T08:12:30.091512Z",
     "start_time": "2024-09-07T08:12:30.079539Z"
    }
   },
   "outputs": [
    {
     "name": "stdout",
     "output_type": "stream",
     "text": [
      "The ratio of customers who are converted and click the link in the email without clicking into the email is 0.85.\n",
      "The ratio of customers who are converted and click the link in the email by clicking into the email is 0.89.\n"
     ]
    }
   ],
   "execution_count": 122
  },
  {
   "cell_type": "markdown",
   "source": "It can be seen that those customers who are converted and click the link in the email by clicking into the email are more likely to buy something then those who do not click into the email to click the link in the email.",
   "metadata": {}
  },
  {
   "cell_type": "code",
   "source": "df.PreviousPurchases.plot(kind='hist')\nplt.show()",
   "metadata": {
    "execution": {
     "iopub.status.busy": "2024-09-06T17:37:54.017917Z",
     "iopub.execute_input": "2024-09-06T17:37:54.018436Z",
     "iopub.status.idle": "2024-09-06T17:37:54.265464Z",
     "shell.execute_reply.started": "2024-09-06T17:37:54.018394Z",
     "shell.execute_reply": "2024-09-06T17:37:54.264105Z"
    },
    "trusted": true,
    "ExecuteTime": {
     "end_time": "2024-09-07T08:12:30.268586Z",
     "start_time": "2024-09-07T08:12:30.203453Z"
    }
   },
   "outputs": [
    {
     "data": {
      "text/plain": [
       "<Figure size 640x480 with 1 Axes>"
      ],
      "image/png": "[encoded data removed]"
     },
     "metadata": {},
     "output_type": "display_data"
    }
   ],
   "execution_count": 123
  },
  {
   "cell_type": "code",
   "source": "df.LoyaltyPoints.plot(kind='hist')\nplt.show()",
   "metadata": {
    "execution": {
     "iopub.status.busy": "2024-09-06T17:37:54.266902Z",
     "iopub.execute_input": "2024-09-06T17:37:54.267415Z",
     "iopub.status.idle": "2024-09-06T17:37:54.530068Z",
     "shell.execute_reply.started": "2024-09-06T17:37:54.267355Z",
     "shell.execute_reply": "2024-09-06T17:37:54.528770Z"
    },
    "trusted": true,
    "ExecuteTime": {
     "end_time": "2024-09-07T08:12:30.336620Z",
     "start_time": "2024-09-07T08:12:30.270924Z"
    }
   },
   "outputs": [
    {
     "data": {
      "text/plain": [
       "<Figure size 640x480 with 1 Axes>"
      ],
      "image/png": "[encoded data removed]"
     },
     "metadata": {},
     "output_type": "display_data"
    }
   ],
   "execution_count": 124
  },
  {
   "cell_type": "code",
   "source": "df.Age.plot(kind='hist')\nplt.show()",
   "metadata": {
    "execution": {
     "iopub.status.busy": "2024-09-06T17:37:54.531718Z",
     "iopub.execute_input": "2024-09-06T17:37:54.532259Z",
     "iopub.status.idle": "2024-09-06T17:37:54.765576Z",
     "shell.execute_reply.started": "2024-09-06T17:37:54.532220Z",
     "shell.execute_reply": "2024-09-06T17:37:54.764208Z"
    },
    "trusted": true,
    "ExecuteTime": {
     "end_time": "2024-09-07T08:12:30.476558Z",
     "start_time": "2024-09-07T08:12:30.416653Z"
    }
   },
   "outputs": [
    {
     "data": {
      "text/plain": [
       "<Figure size 640x480 with 1 Axes>"
      ],
      "image/png": "[encoded data removed]"
     },
     "metadata": {},
     "output_type": "display_data"
    }
   ],
   "execution_count": 125
  },
  {
   "cell_type": "code",
   "source": "print(df.Age.min())\nprint(df.Age.max())\n# Age Groups\n# 15~26\n# 26~37\n# 37~48\n# 48~59\n# 59~70",
   "metadata": {
    "execution": {
     "iopub.status.busy": "2024-09-06T17:37:54.767244Z",
     "iopub.execute_input": "2024-09-06T17:37:54.767672Z",
     "iopub.status.idle": "2024-09-06T17:37:54.775264Z",
     "shell.execute_reply.started": "2024-09-06T17:37:54.767626Z",
     "shell.execute_reply": "2024-09-06T17:37:54.774092Z"
    },
    "trusted": true,
    "ExecuteTime": {
     "end_time": "2024-09-07T08:12:30.480416Z",
     "start_time": "2024-09-07T08:12:30.477571Z"
    }
   },
   "outputs": [
    {
     "name": "stdout",
     "output_type": "stream",
     "text": [
      "18\n",
      "69\n"
     ]
    }
   ],
   "execution_count": 126
  },
  {
   "cell_type": "code",
   "source": "Age_group1 = df[(df['Age']>=15)&(df['Age']<26)]\nAge_group2 = df[(df['Age']>=26)&(df['Age']<37)]\nAge_group3 = df[(df['Age']>=37)&(df['Age']<=48)]\nAge_group4 = df[(df['Age']>=48)&(df['Age']<=59)]\nAge_group5 = df[(df['Age']>=59)&(df['Age']<=70)]",
   "metadata": {
    "execution": {
     "iopub.status.busy": "2024-09-06T17:37:54.776935Z",
     "iopub.execute_input": "2024-09-06T17:37:54.777624Z",
     "iopub.status.idle": "2024-09-06T17:37:54.797478Z",
     "shell.execute_reply.started": "2024-09-06T17:37:54.777585Z",
     "shell.execute_reply": "2024-09-06T17:37:54.796235Z"
    },
    "trusted": true,
    "ExecuteTime": {
     "end_time": "2024-09-07T08:12:30.577600Z",
     "start_time": "2024-09-07T08:12:30.568348Z"
    }
   },
   "outputs": [],
   "execution_count": 127
  },
  {
   "cell_type": "code",
   "source": "print(f\"There are {Age_group1.shape[0]} customers between age 15 and 26.\")\nprint(f\"There are {Age_group2.shape[0]} customers between age 26 and 37.\")\nprint(f\"There are {Age_group3.shape[0]} customers between age 37 and 48.\")\nprint(f\"There are {Age_group4.shape[0]} customers between age 48 and 59.\")\nprint(f\"There are {Age_group5.shape[0]} customers between age 59 and 70.\")",
   "metadata": {
    "execution": {
     "iopub.status.busy": "2024-09-06T17:37:54.799585Z",
     "iopub.execute_input": "2024-09-06T17:37:54.800063Z",
     "iopub.status.idle": "2024-09-06T17:37:54.811211Z",
     "shell.execute_reply.started": "2024-09-06T17:37:54.800003Z",
     "shell.execute_reply": "2024-09-06T17:37:54.809679Z"
    },
    "trusted": true,
    "ExecuteTime": {
     "end_time": "2024-09-07T08:12:30.606766Z",
     "start_time": "2024-09-07T08:12:30.602620Z"
    }
   },
   "outputs": [
    {
     "name": "stdout",
     "output_type": "stream",
     "text": [
      "There are 1193 customers between age 15 and 26.\n",
      "There are 1675 customers between age 26 and 37.\n",
      "There are 1885 customers between age 37 and 48.\n",
      "There are 1815 customers between age 48 and 59.\n",
      "There are 1698 customers between age 59 and 70.\n"
     ]
    }
   ],
   "execution_count": 128
  },
  {
   "cell_type": "code",
   "source": "# Each age group's ClickThroughRate comparision for the User Profile\nx = ['Age_group1','Age_group2','Age_group3','Age_group4','Age_group5']\ny = [Age_group1.ClickThroughRate.mean(),Age_group2.ClickThroughRate.mean(),Age_group3.ClickThroughRate.mean(),Age_group4.ClickThroughRate.mean(),Age_group5.ClickThroughRate.mean()]\nplt.bar(x,y)\nplt.show()",
   "metadata": {
    "execution": {
     "iopub.status.busy": "2024-09-06T17:37:54.813805Z",
     "iopub.execute_input": "2024-09-06T17:37:54.814175Z",
     "iopub.status.idle": "2024-09-06T17:37:55.028380Z",
     "shell.execute_reply.started": "2024-09-06T17:37:54.814144Z",
     "shell.execute_reply": "2024-09-06T17:37:55.027045Z"
    },
    "trusted": true,
    "ExecuteTime": {
     "end_time": "2024-09-07T08:12:30.752077Z",
     "start_time": "2024-09-07T08:12:30.698601Z"
    }
   },
   "outputs": [
    {
     "data": {
      "text/plain": [
       "<Figure size 640x480 with 1 Axes>"
      ],
      "image/png": "[encoded data removed]"
     },
     "metadata": {},
     "output_type": "display_data"
    }
   ],
   "execution_count": 129
  },
  {
   "cell_type": "code",
   "source": "# Each age group's WebsiteVisits comparision for the User Profile\nx = ['Age_group1','Age_group2','Age_group3','Age_group4','Age_group5']\ny = [Age_group1.WebsiteVisits.mean(),Age_group2.WebsiteVisits.mean(),Age_group3.WebsiteVisits.mean(),Age_group4.WebsiteVisits.mean(),Age_group5.WebsiteVisits.mean()]\nplt.bar(x,y)\nplt.show()",
   "metadata": {
    "execution": {
     "iopub.status.busy": "2024-09-06T17:37:55.029716Z",
     "iopub.execute_input": "2024-09-06T17:37:55.030181Z",
     "iopub.status.idle": "2024-09-06T17:37:55.237883Z",
     "shell.execute_reply.started": "2024-09-06T17:37:55.030137Z",
     "shell.execute_reply": "2024-09-06T17:37:55.236791Z"
    },
    "trusted": true,
    "ExecuteTime": {
     "end_time": "2024-09-07T08:12:30.803370Z",
     "start_time": "2024-09-07T08:12:30.753085Z"
    }
   },
   "outputs": [
    {
     "data": {
      "text/plain": [
       "<Figure size 640x480 with 1 Axes>"
      ],
      "image/png": "[encoded data removed]"
     },
     "metadata": {},
     "output_type": "display_data"
    }
   ],
   "execution_count": 130
  },
  {
   "cell_type": "code",
   "source": "# Each age group's PagesPerVisit comparision for the User Profile\nx = ['Age_group1','Age_group2','Age_group3','Age_group4','Age_group5']\ny = [Age_group1.PagesPerVisit.mean(),Age_group2.PagesPerVisit.mean(),Age_group3.PagesPerVisit.mean(),Age_group4.PagesPerVisit.mean(),Age_group5.PagesPerVisit.mean()]\nplt.bar(x,y)\nplt.show()",
   "metadata": {
    "execution": {
     "iopub.status.busy": "2024-09-06T17:37:55.239143Z",
     "iopub.execute_input": "2024-09-06T17:37:55.239500Z",
     "iopub.status.idle": "2024-09-06T17:37:55.443945Z",
     "shell.execute_reply.started": "2024-09-06T17:37:55.239472Z",
     "shell.execute_reply": "2024-09-06T17:37:55.442602Z"
    },
    "trusted": true,
    "ExecuteTime": {
     "end_time": "2024-09-07T08:12:30.856201Z",
     "start_time": "2024-09-07T08:12:30.804401Z"
    }
   },
   "outputs": [
    {
     "data": {
      "text/plain": [
       "<Figure size 640x480 with 1 Axes>"
      ],
      "image/png": "[encoded data removed]"
     },
     "metadata": {},
     "output_type": "display_data"
    }
   ],
   "execution_count": 131
  },
  {
   "cell_type": "code",
   "source": "# Each age group's TimeOnSite comparision for the User Profile\nx = ['Age_group1','Age_group2','Age_group3','Age_group4','Age_group5']\ny = [Age_group1.TimeOnSite.mean(),Age_group2.TimeOnSite.mean(),Age_group3.TimeOnSite.mean(),Age_group4.TimeOnSite.mean(),Age_group5.TimeOnSite.mean()]\nplt.bar(x,y)\nplt.show()",
   "metadata": {
    "execution": {
     "iopub.status.busy": "2024-09-06T17:37:55.445357Z",
     "iopub.execute_input": "2024-09-06T17:37:55.445723Z",
     "iopub.status.idle": "2024-09-06T17:37:55.623322Z",
     "shell.execute_reply.started": "2024-09-06T17:37:55.445688Z",
     "shell.execute_reply": "2024-09-06T17:37:55.622076Z"
    },
    "trusted": true,
    "ExecuteTime": {
     "end_time": "2024-09-07T09:14:39.747394Z",
     "start_time": "2024-09-07T09:14:39.577469Z"
    }
   },
   "outputs": [
    {
     "data": {
      "text/plain": [
       "<Figure size 640x480 with 1 Axes>"
      ],
      "image/png": "[encoded data removed]"
     },
     "metadata": {},
     "output_type": "display_data"
    }
   ],
   "execution_count": 154
  },
  {
   "cell_type": "code",
   "source": "# Each age group's SocialShares comparision for the User Profile\nx = ['Age_group1','Age_group2','Age_group3','Age_group4','Age_group5']\ny = [Age_group1.SocialShares.mean(),Age_group2.SocialShares.mean(),Age_group3.SocialShares.mean(),Age_group4.SocialShares.mean(),Age_group5.SocialShares.mean()]\nplt.bar(x,y)\nplt.show()",
   "metadata": {
    "execution": {
     "iopub.status.busy": "2024-09-06T17:37:55.624916Z",
     "iopub.execute_input": "2024-09-06T17:37:55.625677Z",
     "iopub.status.idle": "2024-09-06T17:37:55.777090Z",
     "shell.execute_reply.started": "2024-09-06T17:37:55.625636Z",
     "shell.execute_reply": "2024-09-06T17:37:55.775848Z"
    },
    "trusted": true,
    "ExecuteTime": {
     "end_time": "2024-09-07T08:12:30.967510Z",
     "start_time": "2024-09-07T08:12:30.920452Z"
    }
   },
   "outputs": [
    {
     "data": {
      "text/plain": [
       "<Figure size 640x480 with 1 Axes>"
      ],
      "image/png": "[encoded data removed]"
     },
     "metadata": {},
     "output_type": "display_data"
    }
   ],
   "execution_count": 133
  },
  {
   "cell_type": "code",
   "source": "# Each age group's PreviousPurchases comparision for the User Profile\nx = ['Age_group1','Age_group2','Age_group3','Age_group4','Age_group5']\ny = [Age_group1.PreviousPurchases.mean(),Age_group2.PreviousPurchases.mean(),Age_group3.PreviousPurchases.mean(),Age_group4.PreviousPurchases.mean(),Age_group5.PreviousPurchases.mean()]\nplt.bar(x,y)\nplt.show()",
   "metadata": {
    "execution": {
     "iopub.status.busy": "2024-09-06T17:37:55.778481Z",
     "iopub.execute_input": "2024-09-06T17:37:55.779723Z",
     "iopub.status.idle": "2024-09-06T17:37:55.922642Z",
     "shell.execute_reply.started": "2024-09-06T17:37:55.779679Z",
     "shell.execute_reply": "2024-09-06T17:37:55.921526Z"
    },
    "trusted": true,
    "ExecuteTime": {
     "end_time": "2024-09-07T08:12:31.063474Z",
     "start_time": "2024-09-07T08:12:31.015992Z"
    }
   },
   "outputs": [
    {
     "data": {
      "text/plain": [
       "<Figure size 640x480 with 1 Axes>"
      ],
      "image/png": "[encoded data removed]"
     },
     "metadata": {},
     "output_type": "display_data"
    }
   ],
   "execution_count": 134
  },
  {
   "cell_type": "code",
   "source": "# Each age group's LoyaltyPoints comparision for the User Profile\nx = ['Age_group1','Age_group2','Age_group3','Age_group4','Age_group5']\ny = [Age_group1.LoyaltyPoints.mean(),Age_group2.LoyaltyPoints.mean(),Age_group3.LoyaltyPoints.mean(),Age_group4.LoyaltyPoints.mean(),Age_group5.LoyaltyPoints.mean()]\nplt.bar(x,y)\nplt.show()",
   "metadata": {
    "execution": {
     "iopub.status.busy": "2024-09-06T17:37:55.924081Z",
     "iopub.execute_input": "2024-09-06T17:37:55.925348Z",
     "iopub.status.idle": "2024-09-06T17:37:56.084460Z",
     "shell.execute_reply.started": "2024-09-06T17:37:55.925303Z",
     "shell.execute_reply": "2024-09-06T17:37:56.082615Z"
    },
    "trusted": true,
    "ExecuteTime": {
     "end_time": "2024-09-07T08:12:31.140217Z",
     "start_time": "2024-09-07T08:12:31.092198Z"
    }
   },
   "outputs": [
    {
     "data": {
      "text/plain": [
       "<Figure size 640x480 with 1 Axes>"
      ],
      "image/png": "[encoded data removed]"
     },
     "metadata": {},
     "output_type": "display_data"
    }
   ],
   "execution_count": 135
  },
  {
   "cell_type": "code",
   "source": "df.Age.dtype",
   "metadata": {
    "execution": {
     "iopub.status.busy": "2024-09-06T17:37:56.085910Z",
     "iopub.execute_input": "2024-09-06T17:37:56.087149Z",
     "iopub.status.idle": "2024-09-06T17:37:56.093890Z",
     "shell.execute_reply.started": "2024-09-06T17:37:56.087105Z",
     "shell.execute_reply": "2024-09-06T17:37:56.092818Z"
    },
    "trusted": true,
    "ExecuteTime": {
     "end_time": "2024-09-07T08:12:31.330311Z",
     "start_time": "2024-09-07T08:12:31.326519Z"
    }
   },
   "outputs": [
    {
     "data": {
      "text/plain": [
       "dtype('int64')"
      ]
     },
     "execution_count": 136,
     "metadata": {},
     "output_type": "execute_result"
    }
   ],
   "execution_count": 136
  },
  {
   "cell_type": "markdown",
   "source": "Looks like the behavior of customers in different age groups is not much different! ",
   "metadata": {}
  },
  {
   "metadata": {
    "ExecuteTime": {
     "end_time": "2024-09-07T09:16:24.305624Z",
     "start_time": "2024-09-07T09:16:24.288705Z"
    }
   },
   "cell_type": "code",
   "source": "df.columns",
   "outputs": [
    {
     "data": {
      "text/plain": [
       "Index(['CustomerID', 'Age', 'Gender', 'Income', 'CampaignChannel',\n",
       "       'CampaignType', 'AdSpend', 'ClickThroughRate', 'ConversionRate',\n",
       "       'WebsiteVisits', 'PagesPerVisit', 'TimeOnSite', 'SocialShares',\n",
       "       'EmailOpens', 'EmailClicks', 'PreviousPurchases', 'LoyaltyPoints',\n",
       "       'AdvertisingPlatform', 'AdvertisingTool', 'Conversion',\n",
       "       'EmailClickThroughRate'],\n",
       "      dtype='object')"
      ]
     },
     "execution_count": 157,
     "metadata": {},
     "output_type": "execute_result"
    }
   ],
   "execution_count": 157
  },
  {
   "cell_type": "code",
   "source": "numeric_columns = ['Age','Income','AdSpend','ClickThroughRate','ConversionRate','WebsiteVisits','PagesPerVisit','TimeOnSite','SocialShares','PreviousPurchases','LoyaltyPoints','Conversion']\n\ndf_groupby_CampaignChannel = df.groupby('CampaignChannel')[numeric_columns].mean().reset_index()\ndf_groupby_CampaignType = df.groupby('CampaignType')[numeric_columns].mean().reset_index()\ndf_groupby_CampaignChannel_CampaignType = df.groupby(['CampaignChannel','CampaignType'])[numeric_columns].mean().reset_index()",
   "metadata": {
    "execution": {
     "iopub.status.busy": "2024-09-06T17:37:56.095533Z",
     "iopub.execute_input": "2024-09-06T17:37:56.096738Z",
     "iopub.status.idle": "2024-09-06T17:37:56.131162Z",
     "shell.execute_reply.started": "2024-09-06T17:37:56.096694Z",
     "shell.execute_reply": "2024-09-06T17:37:56.129999Z"
    },
    "trusted": true,
    "ExecuteTime": {
     "end_time": "2024-09-07T08:12:31.394704Z",
     "start_time": "2024-09-07T08:12:31.380725Z"
    }
   },
   "outputs": [],
   "execution_count": 137
  },
  {
   "cell_type": "code",
   "source": "df_groupby_CampaignChannel[['CampaignChannel','Conversion']].sort_values(by='Conversion',ascending=False)",
   "metadata": {
    "execution": {
     "iopub.status.busy": "2024-09-06T17:37:56.132505Z",
     "iopub.execute_input": "2024-09-06T17:37:56.132851Z",
     "iopub.status.idle": "2024-09-06T17:37:56.146852Z",
     "shell.execute_reply.started": "2024-09-06T17:37:56.132823Z",
     "shell.execute_reply": "2024-09-06T17:37:56.145436Z"
    },
    "trusted": true,
    "ExecuteTime": {
     "end_time": "2024-09-07T08:12:31.519164Z",
     "start_time": "2024-09-07T08:12:31.513135Z"
    }
   },
   "outputs": [
    {
     "data": {
      "text/plain": [
       "  CampaignChannel  Conversion\n",
       "2        Referral    0.883072\n",
       "1             PPC    0.882779\n",
       "3             SEO    0.876774\n",
       "0           Email    0.870263\n",
       "4    Social Media    0.868334"
      ],
      "text/html": [
       "<div>\n",
       "<style scoped>\n",
       "    .dataframe tbody tr th:only-of-type {\n",
       "        vertical-align: middle;\n",
       "    }\n",
       "\n",
       "    .dataframe tbody tr th {\n",
       "        vertical-align: top;\n",
       "    }\n",
       "\n",
       "    .dataframe thead th {\n",
       "        text-align: right;\n",
       "    }\n",
       "</style>\n",
       "<table border=\"1\" class=\"dataframe\">\n",
       "  <thead>\n",
       "    <tr style=\"text-align: right;\">\n",
       "      <th></th>\n",
       "      <th>CampaignChannel</th>\n",
       "      <th>Conversion</th>\n",
       "    </tr>\n",
       "  </thead>\n",
       "  <tbody>\n",
       "    <tr>\n",
       "      <th>2</th>\n",
       "      <td>Referral</td>\n",
       "      <td>0.883072</td>\n",
       "    </tr>\n",
       "    <tr>\n",
       "      <th>1</th>\n",
       "      <td>PPC</td>\n",
       "      <td>0.882779</td>\n",
       "    </tr>\n",
       "    <tr>\n",
       "      <th>3</th>\n",
       "      <td>SEO</td>\n",
       "      <td>0.876774</td>\n",
       "    </tr>\n",
       "    <tr>\n",
       "      <th>0</th>\n",
       "      <td>Email</td>\n",
       "      <td>0.870263</td>\n",
       "    </tr>\n",
       "    <tr>\n",
       "      <th>4</th>\n",
       "      <td>Social Media</td>\n",
       "      <td>0.868334</td>\n",
       "    </tr>\n",
       "  </tbody>\n",
       "</table>\n",
       "</div>"
      ]
     },
     "execution_count": 138,
     "metadata": {},
     "output_type": "execute_result"
    }
   ],
   "execution_count": 138
  },
  {
   "cell_type": "markdown",
   "source": "So, the referral campaign channel is more likely to convert customers to buyers.",
   "metadata": {}
  },
  {
   "cell_type": "code",
   "source": "df_groupby_CampaignType[['CampaignType','Conversion']].sort_values(by='Conversion',ascending=False)",
   "metadata": {
    "execution": {
     "iopub.status.busy": "2024-09-06T17:37:56.148271Z",
     "iopub.execute_input": "2024-09-06T17:37:56.148615Z",
     "iopub.status.idle": "2024-09-06T17:37:56.163513Z",
     "shell.execute_reply.started": "2024-09-06T17:37:56.148578Z",
     "shell.execute_reply": "2024-09-06T17:37:56.162087Z"
    },
    "trusted": true,
    "ExecuteTime": {
     "end_time": "2024-09-07T08:12:31.620213Z",
     "start_time": "2024-09-07T08:12:31.614005Z"
    }
   },
   "outputs": [
    {
     "data": {
      "text/plain": [
       "    CampaignType  Conversion\n",
       "2     Conversion    0.933558\n",
       "3      Retention    0.858243\n",
       "1  Consideration    0.855634\n",
       "0      Awareness    0.855634"
      ],
      "text/html": [
       "<div>\n",
       "<style scoped>\n",
       "    .dataframe tbody tr th:only-of-type {\n",
       "        vertical-align: middle;\n",
       "    }\n",
       "\n",
       "    .dataframe tbody tr th {\n",
       "        vertical-align: top;\n",
       "    }\n",
       "\n",
       "    .dataframe thead th {\n",
       "        text-align: right;\n",
       "    }\n",
       "</style>\n",
       "<table border=\"1\" class=\"dataframe\">\n",
       "  <thead>\n",
       "    <tr style=\"text-align: right;\">\n",
       "      <th></th>\n",
       "      <th>CampaignType</th>\n",
       "      <th>Conversion</th>\n",
       "    </tr>\n",
       "  </thead>\n",
       "  <tbody>\n",
       "    <tr>\n",
       "      <th>2</th>\n",
       "      <td>Conversion</td>\n",
       "      <td>0.933558</td>\n",
       "    </tr>\n",
       "    <tr>\n",
       "      <th>3</th>\n",
       "      <td>Retention</td>\n",
       "      <td>0.858243</td>\n",
       "    </tr>\n",
       "    <tr>\n",
       "      <th>1</th>\n",
       "      <td>Consideration</td>\n",
       "      <td>0.855634</td>\n",
       "    </tr>\n",
       "    <tr>\n",
       "      <th>0</th>\n",
       "      <td>Awareness</td>\n",
       "      <td>0.855634</td>\n",
       "    </tr>\n",
       "  </tbody>\n",
       "</table>\n",
       "</div>"
      ]
     },
     "execution_count": 139,
     "metadata": {},
     "output_type": "execute_result"
    }
   ],
   "execution_count": 139
  },
  {
   "cell_type": "markdown",
   "source": "If the purpose of the campaign is to convert customers, then the ratio of converted customers is much higher than other campaign types. As for the other types, the ratios of customers who are converted are very colse.",
   "metadata": {}
  },
  {
   "cell_type": "code",
   "source": "df_groupby_CampaignChannel_CampaignType[['CampaignChannel','CampaignType','Conversion']].sort_values(by='Conversion',ascending=False)",
   "metadata": {
    "execution": {
     "iopub.status.busy": "2024-09-06T17:37:56.165180Z",
     "iopub.execute_input": "2024-09-06T17:37:56.165589Z",
     "iopub.status.idle": "2024-09-06T17:37:56.184551Z",
     "shell.execute_reply.started": "2024-09-06T17:37:56.165558Z",
     "shell.execute_reply": "2024-09-06T17:37:56.183236Z"
    },
    "trusted": true,
    "ExecuteTime": {
     "end_time": "2024-09-07T09:17:29.680280Z",
     "start_time": "2024-09-07T09:17:29.672990Z"
    }
   },
   "outputs": [
    {
     "data": {
      "text/plain": [
       "   CampaignChannel   CampaignType  Conversion\n",
       "14             SEO     Conversion    0.940299\n",
       "6              PPC     Conversion    0.939597\n",
       "2            Email     Conversion    0.932692\n",
       "10        Referral     Conversion    0.930337\n",
       "18    Social Media     Conversion    0.923706\n",
       "8         Referral      Awareness    0.883991\n",
       "5              PPC  Consideration    0.868812\n",
       "15             SEO      Retention    0.866324\n",
       "19    Social Media      Retention    0.862162\n",
       "11        Referral      Retention    0.860092\n",
       "4              PPC      Awareness    0.859223\n",
       "7              PPC      Retention    0.857143\n",
       "1            Email  Consideration    0.856079\n",
       "9         Referral  Consideration    0.855037\n",
       "17    Social Media  Consideration    0.849383\n",
       "12             SEO      Awareness    0.848718\n",
       "13             SEO  Consideration    0.848238\n",
       "3            Email      Retention    0.844444\n",
       "0            Email      Awareness    0.841270\n",
       "16    Social Media      Awareness    0.840849"
      ],
      "text/html": [
       "<div>\n",
       "<style scoped>\n",
       "    .dataframe tbody tr th:only-of-type {\n",
       "        vertical-align: middle;\n",
       "    }\n",
       "\n",
       "    .dataframe tbody tr th {\n",
       "        vertical-align: top;\n",
       "    }\n",
       "\n",
       "    .dataframe thead th {\n",
       "        text-align: right;\n",
       "    }\n",
       "</style>\n",
       "<table border=\"1\" class=\"dataframe\">\n",
       "  <thead>\n",
       "    <tr style=\"text-align: right;\">\n",
       "      <th></th>\n",
       "      <th>CampaignChannel</th>\n",
       "      <th>CampaignType</th>\n",
       "      <th>Conversion</th>\n",
       "    </tr>\n",
       "  </thead>\n",
       "  <tbody>\n",
       "    <tr>\n",
       "      <th>14</th>\n",
       "      <td>SEO</td>\n",
       "      <td>Conversion</td>\n",
       "      <td>0.940299</td>\n",
       "    </tr>\n",
       "    <tr>\n",
       "      <th>6</th>\n",
       "      <td>PPC</td>\n",
       "      <td>Conversion</td>\n",
       "      <td>0.939597</td>\n",
       "    </tr>\n",
       "    <tr>\n",
       "      <th>2</th>\n",
       "      <td>Email</td>\n",
       "      <td>Conversion</td>\n",
       "      <td>0.932692</td>\n",
       "    </tr>\n",
       "    <tr>\n",
       "      <th>10</th>\n",
       "      <td>Referral</td>\n",
       "      <td>Conversion</td>\n",
       "      <td>0.930337</td>\n",
       "    </tr>\n",
       "    <tr>\n",
       "      <th>18</th>\n",
       "      <td>Social Media</td>\n",
       "      <td>Conversion</td>\n",
       "      <td>0.923706</td>\n",
       "    </tr>\n",
       "    <tr>\n",
       "      <th>8</th>\n",
       "      <td>Referral</td>\n",
       "      <td>Awareness</td>\n",
       "      <td>0.883991</td>\n",
       "    </tr>\n",
       "    <tr>\n",
       "      <th>5</th>\n",
       "      <td>PPC</td>\n",
       "      <td>Consideration</td>\n",
       "      <td>0.868812</td>\n",
       "    </tr>\n",
       "    <tr>\n",
       "      <th>15</th>\n",
       "      <td>SEO</td>\n",
       "      <td>Retention</td>\n",
       "      <td>0.866324</td>\n",
       "    </tr>\n",
       "    <tr>\n",
       "      <th>19</th>\n",
       "      <td>Social Media</td>\n",
       "      <td>Retention</td>\n",
       "      <td>0.862162</td>\n",
       "    </tr>\n",
       "    <tr>\n",
       "      <th>11</th>\n",
       "      <td>Referral</td>\n",
       "      <td>Retention</td>\n",
       "      <td>0.860092</td>\n",
       "    </tr>\n",
       "    <tr>\n",
       "      <th>4</th>\n",
       "      <td>PPC</td>\n",
       "      <td>Awareness</td>\n",
       "      <td>0.859223</td>\n",
       "    </tr>\n",
       "    <tr>\n",
       "      <th>7</th>\n",
       "      <td>PPC</td>\n",
       "      <td>Retention</td>\n",
       "      <td>0.857143</td>\n",
       "    </tr>\n",
       "    <tr>\n",
       "      <th>1</th>\n",
       "      <td>Email</td>\n",
       "      <td>Consideration</td>\n",
       "      <td>0.856079</td>\n",
       "    </tr>\n",
       "    <tr>\n",
       "      <th>9</th>\n",
       "      <td>Referral</td>\n",
       "      <td>Consideration</td>\n",
       "      <td>0.855037</td>\n",
       "    </tr>\n",
       "    <tr>\n",
       "      <th>17</th>\n",
       "      <td>Social Media</td>\n",
       "      <td>Consideration</td>\n",
       "      <td>0.849383</td>\n",
       "    </tr>\n",
       "    <tr>\n",
       "      <th>12</th>\n",
       "      <td>SEO</td>\n",
       "      <td>Awareness</td>\n",
       "      <td>0.848718</td>\n",
       "    </tr>\n",
       "    <tr>\n",
       "      <th>13</th>\n",
       "      <td>SEO</td>\n",
       "      <td>Consideration</td>\n",
       "      <td>0.848238</td>\n",
       "    </tr>\n",
       "    <tr>\n",
       "      <th>3</th>\n",
       "      <td>Email</td>\n",
       "      <td>Retention</td>\n",
       "      <td>0.844444</td>\n",
       "    </tr>\n",
       "    <tr>\n",
       "      <th>0</th>\n",
       "      <td>Email</td>\n",
       "      <td>Awareness</td>\n",
       "      <td>0.841270</td>\n",
       "    </tr>\n",
       "    <tr>\n",
       "      <th>16</th>\n",
       "      <td>Social Media</td>\n",
       "      <td>Awareness</td>\n",
       "      <td>0.840849</td>\n",
       "    </tr>\n",
       "  </tbody>\n",
       "</table>\n",
       "</div>"
      ]
     },
     "execution_count": 159,
     "metadata": {},
     "output_type": "execute_result"
    }
   ],
   "execution_count": 159
  },
  {
   "cell_type": "markdown",
   "source": "So, the ratio of customers who are converted when the campaign channel is SEO and the campaign type is conversion is the highest among all possible combinations of campaign channel and campaign type. But the ratios of other campagin channels with the conversion campaign type are very close the highest ratio. That is to say if the goal is to make more customers to buyers, then the campaign type should just be conversion no matter what the campaign channel is.",
   "metadata": {}
  },
  {
   "cell_type": "code",
   "source": "df_groupby_CampaignChannel[['CampaignChannel','AdSpend']].sort_values(by='AdSpend',ascending=False)",
   "metadata": {
    "execution": {
     "iopub.status.busy": "2024-09-06T17:37:56.186091Z",
     "iopub.execute_input": "2024-09-06T17:37:56.186425Z",
     "iopub.status.idle": "2024-09-06T17:37:56.206043Z",
     "shell.execute_reply.started": "2024-09-06T17:37:56.186397Z",
     "shell.execute_reply": "2024-09-06T17:37:56.204411Z"
    },
    "trusted": true,
    "ExecuteTime": {
     "end_time": "2024-09-07T08:12:31.727182Z",
     "start_time": "2024-09-07T08:12:31.720991Z"
    }
   },
   "outputs": [
    {
     "data": {
      "text/plain": [
       "  CampaignChannel      AdSpend\n",
       "0           Email  5055.604272\n",
       "2        Referral  5034.042284\n",
       "3             SEO  4994.131533\n",
       "4    Social Media  4965.321428\n",
       "1             PPC  4954.221741"
      ],
      "text/html": [
       "<div>\n",
       "<style scoped>\n",
       "    .dataframe tbody tr th:only-of-type {\n",
       "        vertical-align: middle;\n",
       "    }\n",
       "\n",
       "    .dataframe tbody tr th {\n",
       "        vertical-align: top;\n",
       "    }\n",
       "\n",
       "    .dataframe thead th {\n",
       "        text-align: right;\n",
       "    }\n",
       "</style>\n",
       "<table border=\"1\" class=\"dataframe\">\n",
       "  <thead>\n",
       "    <tr style=\"text-align: right;\">\n",
       "      <th></th>\n",
       "      <th>CampaignChannel</th>\n",
       "      <th>AdSpend</th>\n",
       "    </tr>\n",
       "  </thead>\n",
       "  <tbody>\n",
       "    <tr>\n",
       "      <th>0</th>\n",
       "      <td>Email</td>\n",
       "      <td>5055.604272</td>\n",
       "    </tr>\n",
       "    <tr>\n",
       "      <th>2</th>\n",
       "      <td>Referral</td>\n",
       "      <td>5034.042284</td>\n",
       "    </tr>\n",
       "    <tr>\n",
       "      <th>3</th>\n",
       "      <td>SEO</td>\n",
       "      <td>4994.131533</td>\n",
       "    </tr>\n",
       "    <tr>\n",
       "      <th>4</th>\n",
       "      <td>Social Media</td>\n",
       "      <td>4965.321428</td>\n",
       "    </tr>\n",
       "    <tr>\n",
       "      <th>1</th>\n",
       "      <td>PPC</td>\n",
       "      <td>4954.221741</td>\n",
       "    </tr>\n",
       "  </tbody>\n",
       "</table>\n",
       "</div>"
      ]
     },
     "execution_count": 141,
     "metadata": {},
     "output_type": "execute_result"
    }
   ],
   "execution_count": 141
  },
  {
   "cell_type": "markdown",
   "source": "So, the email channel has costed the highest average advertisement fee.",
   "metadata": {}
  },
  {
   "cell_type": "code",
   "source": "df_groupby_CampaignType[['CampaignType','AdSpend']].sort_values(by='AdSpend',ascending=False)",
   "metadata": {
    "execution": {
     "iopub.status.busy": "2024-09-06T17:37:56.207585Z",
     "iopub.execute_input": "2024-09-06T17:37:56.207956Z",
     "iopub.status.idle": "2024-09-06T17:37:56.222513Z",
     "shell.execute_reply.started": "2024-09-06T17:37:56.207924Z",
     "shell.execute_reply": "2024-09-06T17:37:56.221260Z"
    },
    "trusted": true,
    "ExecuteTime": {
     "end_time": "2024-09-07T08:12:31.854056Z",
     "start_time": "2024-09-07T08:12:31.846954Z"
    }
   },
   "outputs": [
    {
     "data": {
      "text/plain": [
       "    CampaignType      AdSpend\n",
       "0      Awareness  5069.338947\n",
       "3      Retention  5017.135162\n",
       "1  Consideration  4960.399233\n",
       "2     Conversion  4959.112653"
      ],
      "text/html": [
       "<div>\n",
       "<style scoped>\n",
       "    .dataframe tbody tr th:only-of-type {\n",
       "        vertical-align: middle;\n",
       "    }\n",
       "\n",
       "    .dataframe tbody tr th {\n",
       "        vertical-align: top;\n",
       "    }\n",
       "\n",
       "    .dataframe thead th {\n",
       "        text-align: right;\n",
       "    }\n",
       "</style>\n",
       "<table border=\"1\" class=\"dataframe\">\n",
       "  <thead>\n",
       "    <tr style=\"text-align: right;\">\n",
       "      <th></th>\n",
       "      <th>CampaignType</th>\n",
       "      <th>AdSpend</th>\n",
       "    </tr>\n",
       "  </thead>\n",
       "  <tbody>\n",
       "    <tr>\n",
       "      <th>0</th>\n",
       "      <td>Awareness</td>\n",
       "      <td>5069.338947</td>\n",
       "    </tr>\n",
       "    <tr>\n",
       "      <th>3</th>\n",
       "      <td>Retention</td>\n",
       "      <td>5017.135162</td>\n",
       "    </tr>\n",
       "    <tr>\n",
       "      <th>1</th>\n",
       "      <td>Consideration</td>\n",
       "      <td>4960.399233</td>\n",
       "    </tr>\n",
       "    <tr>\n",
       "      <th>2</th>\n",
       "      <td>Conversion</td>\n",
       "      <td>4959.112653</td>\n",
       "    </tr>\n",
       "  </tbody>\n",
       "</table>\n",
       "</div>"
      ]
     },
     "execution_count": 142,
     "metadata": {},
     "output_type": "execute_result"
    }
   ],
   "execution_count": 142
  },
  {
   "cell_type": "markdown",
   "source": "So, the awareness campaign type has costed the highest average advertisement fee.",
   "metadata": {}
  },
  {
   "cell_type": "code",
   "source": "df_groupby_CampaignChannel_CampaignType[['CampaignChannel','CampaignType','AdSpend']].sort_values(by='AdSpend',ascending=False)",
   "metadata": {
    "execution": {
     "iopub.status.busy": "2024-09-06T17:37:56.224138Z",
     "iopub.execute_input": "2024-09-06T17:37:56.224676Z",
     "iopub.status.idle": "2024-09-06T17:37:56.246535Z",
     "shell.execute_reply.started": "2024-09-06T17:37:56.224613Z",
     "shell.execute_reply": "2024-09-06T17:37:56.245208Z"
    },
    "trusted": true,
    "ExecuteTime": {
     "end_time": "2024-09-07T08:12:31.997393Z",
     "start_time": "2024-09-07T08:12:31.989795Z"
    }
   },
   "outputs": [
    {
     "data": {
      "text/plain": [
       "   CampaignChannel   CampaignType      AdSpend\n",
       "3            Email      Retention  5204.585578\n",
       "16    Social Media      Awareness  5183.625376\n",
       "2            Email     Conversion  5169.923986\n",
       "8         Referral      Awareness  5151.421571\n",
       "12             SEO      Awareness  5132.001477\n",
       "7              PPC      Retention  5008.451401\n",
       "9         Referral  Consideration  5004.175064\n",
       "5              PPC  Consideration  5003.265222\n",
       "10        Referral     Conversion  5002.671732\n",
       "4              PPC      Awareness  4992.213287\n",
       "11        Referral      Retention  4977.907837\n",
       "15             SEO      Retention  4971.795251\n",
       "1            Email  Consideration  4968.120976\n",
       "13             SEO  Consideration  4944.592092\n",
       "19    Social Media      Retention  4937.843876\n",
       "14             SEO     Conversion  4927.463843\n",
       "0            Email      Awareness  4881.174370\n",
       "17    Social Media  Consideration  4880.365527\n",
       "18    Social Media     Conversion  4862.523732\n",
       "6              PPC     Conversion  4827.322165"
      ],
      "text/html": [
       "<div>\n",
       "<style scoped>\n",
       "    .dataframe tbody tr th:only-of-type {\n",
       "        vertical-align: middle;\n",
       "    }\n",
       "\n",
       "    .dataframe tbody tr th {\n",
       "        vertical-align: top;\n",
       "    }\n",
       "\n",
       "    .dataframe thead th {\n",
       "        text-align: right;\n",
       "    }\n",
       "</style>\n",
       "<table border=\"1\" class=\"dataframe\">\n",
       "  <thead>\n",
       "    <tr style=\"text-align: right;\">\n",
       "      <th></th>\n",
       "      <th>CampaignChannel</th>\n",
       "      <th>CampaignType</th>\n",
       "      <th>AdSpend</th>\n",
       "    </tr>\n",
       "  </thead>\n",
       "  <tbody>\n",
       "    <tr>\n",
       "      <th>3</th>\n",
       "      <td>Email</td>\n",
       "      <td>Retention</td>\n",
       "      <td>5204.585578</td>\n",
       "    </tr>\n",
       "    <tr>\n",
       "      <th>16</th>\n",
       "      <td>Social Media</td>\n",
       "      <td>Awareness</td>\n",
       "      <td>5183.625376</td>\n",
       "    </tr>\n",
       "    <tr>\n",
       "      <th>2</th>\n",
       "      <td>Email</td>\n",
       "      <td>Conversion</td>\n",
       "      <td>5169.923986</td>\n",
       "    </tr>\n",
       "    <tr>\n",
       "      <th>8</th>\n",
       "      <td>Referral</td>\n",
       "      <td>Awareness</td>\n",
       "      <td>5151.421571</td>\n",
       "    </tr>\n",
       "    <tr>\n",
       "      <th>12</th>\n",
       "      <td>SEO</td>\n",
       "      <td>Awareness</td>\n",
       "      <td>5132.001477</td>\n",
       "    </tr>\n",
       "    <tr>\n",
       "      <th>7</th>\n",
       "      <td>PPC</td>\n",
       "      <td>Retention</td>\n",
       "      <td>5008.451401</td>\n",
       "    </tr>\n",
       "    <tr>\n",
       "      <th>9</th>\n",
       "      <td>Referral</td>\n",
       "      <td>Consideration</td>\n",
       "      <td>5004.175064</td>\n",
       "    </tr>\n",
       "    <tr>\n",
       "      <th>5</th>\n",
       "      <td>PPC</td>\n",
       "      <td>Consideration</td>\n",
       "      <td>5003.265222</td>\n",
       "    </tr>\n",
       "    <tr>\n",
       "      <th>10</th>\n",
       "      <td>Referral</td>\n",
       "      <td>Conversion</td>\n",
       "      <td>5002.671732</td>\n",
       "    </tr>\n",
       "    <tr>\n",
       "      <th>4</th>\n",
       "      <td>PPC</td>\n",
       "      <td>Awareness</td>\n",
       "      <td>4992.213287</td>\n",
       "    </tr>\n",
       "    <tr>\n",
       "      <th>11</th>\n",
       "      <td>Referral</td>\n",
       "      <td>Retention</td>\n",
       "      <td>4977.907837</td>\n",
       "    </tr>\n",
       "    <tr>\n",
       "      <th>15</th>\n",
       "      <td>SEO</td>\n",
       "      <td>Retention</td>\n",
       "      <td>4971.795251</td>\n",
       "    </tr>\n",
       "    <tr>\n",
       "      <th>1</th>\n",
       "      <td>Email</td>\n",
       "      <td>Consideration</td>\n",
       "      <td>4968.120976</td>\n",
       "    </tr>\n",
       "    <tr>\n",
       "      <th>13</th>\n",
       "      <td>SEO</td>\n",
       "      <td>Consideration</td>\n",
       "      <td>4944.592092</td>\n",
       "    </tr>\n",
       "    <tr>\n",
       "      <th>19</th>\n",
       "      <td>Social Media</td>\n",
       "      <td>Retention</td>\n",
       "      <td>4937.843876</td>\n",
       "    </tr>\n",
       "    <tr>\n",
       "      <th>14</th>\n",
       "      <td>SEO</td>\n",
       "      <td>Conversion</td>\n",
       "      <td>4927.463843</td>\n",
       "    </tr>\n",
       "    <tr>\n",
       "      <th>0</th>\n",
       "      <td>Email</td>\n",
       "      <td>Awareness</td>\n",
       "      <td>4881.174370</td>\n",
       "    </tr>\n",
       "    <tr>\n",
       "      <th>17</th>\n",
       "      <td>Social Media</td>\n",
       "      <td>Consideration</td>\n",
       "      <td>4880.365527</td>\n",
       "    </tr>\n",
       "    <tr>\n",
       "      <th>18</th>\n",
       "      <td>Social Media</td>\n",
       "      <td>Conversion</td>\n",
       "      <td>4862.523732</td>\n",
       "    </tr>\n",
       "    <tr>\n",
       "      <th>6</th>\n",
       "      <td>PPC</td>\n",
       "      <td>Conversion</td>\n",
       "      <td>4827.322165</td>\n",
       "    </tr>\n",
       "  </tbody>\n",
       "</table>\n",
       "</div>"
      ]
     },
     "execution_count": 143,
     "metadata": {},
     "output_type": "execute_result"
    }
   ],
   "execution_count": 143
  },
  {
   "cell_type": "markdown",
   "source": "So, the retention campaign type under the email channel has costed the highest average advertisement fee. But what about ROI of all the combinations?",
   "metadata": {}
  },
  {
   "cell_type": "code",
   "source": "numeric_columns = ['Age','Income','AdSpend','ClickThroughRate','ConversionRate','WebsiteVisits','PagesPerVisit','TimeOnSite','SocialShares','PreviousPurchases','LoyaltyPoints','Conversion']\n\ndf_groupby_CampaignChannel1 = df.groupby('CampaignChannel')[numeric_columns].sum().reset_index()\ndf_groupby_CampaignType1 = df.groupby('CampaignType')[numeric_columns].sum().reset_index()\ndf_groupby_CampaignChannel_CampaignType1 = df.groupby(['CampaignChannel','CampaignType'])[numeric_columns].sum().reset_index()",
   "metadata": {
    "execution": {
     "iopub.status.busy": "2024-09-06T17:37:56.247785Z",
     "iopub.execute_input": "2024-09-06T17:37:56.248184Z",
     "iopub.status.idle": "2024-09-06T17:37:56.271391Z",
     "shell.execute_reply.started": "2024-09-06T17:37:56.248151Z",
     "shell.execute_reply": "2024-09-06T17:37:56.270111Z"
    },
    "trusted": true,
    "ExecuteTime": {
     "end_time": "2024-09-07T08:12:32.106974Z",
     "start_time": "2024-09-07T08:12:32.095857Z"
    }
   },
   "outputs": [],
   "execution_count": 144
  },
  {
   "cell_type": "code",
   "source": "print(f\"The ROI of each campaign channel: \")\ndf_groupby_CampaignChannel1['CampaignChannelROI'] = df_groupby_CampaignChannel1['AdSpend']/df_groupby_CampaignChannel1['Conversion']\ndf_groupby_CampaignChannel1[['CampaignChannel','CampaignChannelROI']].sort_values(by='CampaignChannelROI',ascending=False)",
   "metadata": {
    "execution": {
     "iopub.status.busy": "2024-09-06T17:37:56.272855Z",
     "iopub.execute_input": "2024-09-06T17:37:56.273242Z",
     "iopub.status.idle": "2024-09-06T17:37:56.291555Z",
     "shell.execute_reply.started": "2024-09-06T17:37:56.273212Z",
     "shell.execute_reply": "2024-09-06T17:37:56.290259Z"
    },
    "trusted": true,
    "ExecuteTime": {
     "end_time": "2024-09-07T08:12:32.290653Z",
     "start_time": "2024-09-07T08:12:32.284152Z"
    }
   },
   "outputs": [
    {
     "name": "stdout",
     "output_type": "stream",
     "text": [
      "The ROI of each campaign channel: \n"
     ]
    },
    {
     "data": {
      "text/plain": [
       "  CampaignChannel  CampaignChannelROI\n",
       "0           Email         5809.281071\n",
       "4    Social Media         5718.213229\n",
       "2        Referral         5700.605195\n",
       "3             SEO         5696.029342\n",
       "1             PPC         5612.071856"
      ],
      "text/html": [
       "<div>\n",
       "<style scoped>\n",
       "    .dataframe tbody tr th:only-of-type {\n",
       "        vertical-align: middle;\n",
       "    }\n",
       "\n",
       "    .dataframe tbody tr th {\n",
       "        vertical-align: top;\n",
       "    }\n",
       "\n",
       "    .dataframe thead th {\n",
       "        text-align: right;\n",
       "    }\n",
       "</style>\n",
       "<table border=\"1\" class=\"dataframe\">\n",
       "  <thead>\n",
       "    <tr style=\"text-align: right;\">\n",
       "      <th></th>\n",
       "      <th>CampaignChannel</th>\n",
       "      <th>CampaignChannelROI</th>\n",
       "    </tr>\n",
       "  </thead>\n",
       "  <tbody>\n",
       "    <tr>\n",
       "      <th>0</th>\n",
       "      <td>Email</td>\n",
       "      <td>5809.281071</td>\n",
       "    </tr>\n",
       "    <tr>\n",
       "      <th>4</th>\n",
       "      <td>Social Media</td>\n",
       "      <td>5718.213229</td>\n",
       "    </tr>\n",
       "    <tr>\n",
       "      <th>2</th>\n",
       "      <td>Referral</td>\n",
       "      <td>5700.605195</td>\n",
       "    </tr>\n",
       "    <tr>\n",
       "      <th>3</th>\n",
       "      <td>SEO</td>\n",
       "      <td>5696.029342</td>\n",
       "    </tr>\n",
       "    <tr>\n",
       "      <th>1</th>\n",
       "      <td>PPC</td>\n",
       "      <td>5612.071856</td>\n",
       "    </tr>\n",
       "  </tbody>\n",
       "</table>\n",
       "</div>"
      ]
     },
     "execution_count": 145,
     "metadata": {},
     "output_type": "execute_result"
    }
   ],
   "execution_count": 145
  },
  {
   "cell_type": "markdown",
   "source": "So, when the channel is PPC, the advertisement fee spent on each converted customer is the least which makes sense the customers who are converted in this channel have paid to click through the advertisements, which means they have already been attracted by the products without further attraction on the advertisements.",
   "metadata": {}
  },
  {
   "cell_type": "code",
   "source": "print(f\"The ROI of each campaign channel: \")\ndf_groupby_CampaignChannel1['CampaignChannelROI'] = df_groupby_CampaignChannel1['Conversion']/df_groupby_CampaignChannel1['AdSpend']\ndf_groupby_CampaignChannel1[['CampaignChannel','CampaignChannelROI']].sort_values(by='CampaignChannelROI',ascending=False)",
   "metadata": {
    "execution": {
     "iopub.status.busy": "2024-09-06T17:37:56.293153Z",
     "iopub.execute_input": "2024-09-06T17:37:56.293598Z",
     "iopub.status.idle": "2024-09-06T17:37:56.309975Z",
     "shell.execute_reply.started": "2024-09-06T17:37:56.293559Z",
     "shell.execute_reply": "2024-09-06T17:37:56.308440Z"
    },
    "trusted": true,
    "ExecuteTime": {
     "end_time": "2024-09-07T08:12:32.370596Z",
     "start_time": "2024-09-07T08:12:32.363526Z"
    }
   },
   "outputs": [
    {
     "name": "stdout",
     "output_type": "stream",
     "text": [
      "The ROI of each campaign channel: \n"
     ]
    },
    {
     "data": {
      "text/plain": [
       "  CampaignChannel  CampaignChannelROI\n",
       "1             PPC            0.000178\n",
       "3             SEO            0.000176\n",
       "2        Referral            0.000175\n",
       "4    Social Media            0.000175\n",
       "0           Email            0.000172"
      ],
      "text/html": [
       "<div>\n",
       "<style scoped>\n",
       "    .dataframe tbody tr th:only-of-type {\n",
       "        vertical-align: middle;\n",
       "    }\n",
       "\n",
       "    .dataframe tbody tr th {\n",
       "        vertical-align: top;\n",
       "    }\n",
       "\n",
       "    .dataframe thead th {\n",
       "        text-align: right;\n",
       "    }\n",
       "</style>\n",
       "<table border=\"1\" class=\"dataframe\">\n",
       "  <thead>\n",
       "    <tr style=\"text-align: right;\">\n",
       "      <th></th>\n",
       "      <th>CampaignChannel</th>\n",
       "      <th>CampaignChannelROI</th>\n",
       "    </tr>\n",
       "  </thead>\n",
       "  <tbody>\n",
       "    <tr>\n",
       "      <th>1</th>\n",
       "      <td>PPC</td>\n",
       "      <td>0.000178</td>\n",
       "    </tr>\n",
       "    <tr>\n",
       "      <th>3</th>\n",
       "      <td>SEO</td>\n",
       "      <td>0.000176</td>\n",
       "    </tr>\n",
       "    <tr>\n",
       "      <th>2</th>\n",
       "      <td>Referral</td>\n",
       "      <td>0.000175</td>\n",
       "    </tr>\n",
       "    <tr>\n",
       "      <th>4</th>\n",
       "      <td>Social Media</td>\n",
       "      <td>0.000175</td>\n",
       "    </tr>\n",
       "    <tr>\n",
       "      <th>0</th>\n",
       "      <td>Email</td>\n",
       "      <td>0.000172</td>\n",
       "    </tr>\n",
       "  </tbody>\n",
       "</table>\n",
       "</div>"
      ]
     },
     "execution_count": 146,
     "metadata": {},
     "output_type": "execute_result"
    }
   ],
   "execution_count": 146
  },
  {
   "cell_type": "code",
   "source": "print(f\"The ROI of each campaign type: \")\ndf_groupby_CampaignType1['CampaignTypeROI'] = df_groupby_CampaignType1['AdSpend']/df_groupby_CampaignType1['Conversion']\ndf_groupby_CampaignType1[['CampaignType','CampaignTypeROI']].sort_values(by='CampaignTypeROI',ascending=False)",
   "metadata": {
    "execution": {
     "iopub.status.busy": "2024-09-06T17:37:56.311586Z",
     "iopub.execute_input": "2024-09-06T17:37:56.312151Z",
     "iopub.status.idle": "2024-09-06T17:37:56.333068Z",
     "shell.execute_reply.started": "2024-09-06T17:37:56.312111Z",
     "shell.execute_reply": "2024-09-06T17:37:56.331897Z"
    },
    "trusted": true,
    "ExecuteTime": {
     "end_time": "2024-09-07T08:12:32.511839Z",
     "start_time": "2024-09-07T08:12:32.504597Z"
    }
   },
   "outputs": [
    {
     "name": "stdout",
     "output_type": "stream",
     "text": [
      "The ROI of each campaign type: \n"
     ]
    },
    {
     "data": {
      "text/plain": [
       "    CampaignType  CampaignTypeROI\n",
       "0      Awareness      5924.659510\n",
       "3      Retention      5845.818169\n",
       "1  Consideration      5797.339021\n",
       "2     Conversion      5312.056205"
      ],
      "text/html": [
       "<div>\n",
       "<style scoped>\n",
       "    .dataframe tbody tr th:only-of-type {\n",
       "        vertical-align: middle;\n",
       "    }\n",
       "\n",
       "    .dataframe tbody tr th {\n",
       "        vertical-align: top;\n",
       "    }\n",
       "\n",
       "    .dataframe thead th {\n",
       "        text-align: right;\n",
       "    }\n",
       "</style>\n",
       "<table border=\"1\" class=\"dataframe\">\n",
       "  <thead>\n",
       "    <tr style=\"text-align: right;\">\n",
       "      <th></th>\n",
       "      <th>CampaignType</th>\n",
       "      <th>CampaignTypeROI</th>\n",
       "    </tr>\n",
       "  </thead>\n",
       "  <tbody>\n",
       "    <tr>\n",
       "      <th>0</th>\n",
       "      <td>Awareness</td>\n",
       "      <td>5924.659510</td>\n",
       "    </tr>\n",
       "    <tr>\n",
       "      <th>3</th>\n",
       "      <td>Retention</td>\n",
       "      <td>5845.818169</td>\n",
       "    </tr>\n",
       "    <tr>\n",
       "      <th>1</th>\n",
       "      <td>Consideration</td>\n",
       "      <td>5797.339021</td>\n",
       "    </tr>\n",
       "    <tr>\n",
       "      <th>2</th>\n",
       "      <td>Conversion</td>\n",
       "      <td>5312.056205</td>\n",
       "    </tr>\n",
       "  </tbody>\n",
       "</table>\n",
       "</div>"
      ]
     },
     "execution_count": 147,
     "metadata": {},
     "output_type": "execute_result"
    }
   ],
   "execution_count": 147
  },
  {
   "cell_type": "markdown",
   "source": "When the campaign type is conversion, the advertisement fee spent on each converted customers is the least.",
   "metadata": {}
  },
  {
   "cell_type": "code",
   "source": "print(f\"The ROI of each campaign type: \")\ndf_groupby_CampaignType1['CampaignTypeROI'] = df_groupby_CampaignType1['Conversion']/df_groupby_CampaignType1['AdSpend']\ndf_groupby_CampaignType1[['CampaignType','CampaignTypeROI']].sort_values(by='CampaignTypeROI',ascending=False)",
   "metadata": {
    "execution": {
     "iopub.status.busy": "2024-09-06T17:37:56.334478Z",
     "iopub.execute_input": "2024-09-06T17:37:56.334812Z",
     "iopub.status.idle": "2024-09-06T17:37:56.354862Z",
     "shell.execute_reply.started": "2024-09-06T17:37:56.334776Z",
     "shell.execute_reply": "2024-09-06T17:37:56.353531Z"
    },
    "trusted": true,
    "ExecuteTime": {
     "end_time": "2024-09-07T08:12:32.605088Z",
     "start_time": "2024-09-07T08:12:32.598483Z"
    }
   },
   "outputs": [
    {
     "name": "stdout",
     "output_type": "stream",
     "text": [
      "The ROI of each campaign type: \n"
     ]
    },
    {
     "data": {
      "text/plain": [
       "    CampaignType  CampaignTypeROI\n",
       "2     Conversion         0.000188\n",
       "1  Consideration         0.000172\n",
       "3      Retention         0.000171\n",
       "0      Awareness         0.000169"
      ],
      "text/html": [
       "<div>\n",
       "<style scoped>\n",
       "    .dataframe tbody tr th:only-of-type {\n",
       "        vertical-align: middle;\n",
       "    }\n",
       "\n",
       "    .dataframe tbody tr th {\n",
       "        vertical-align: top;\n",
       "    }\n",
       "\n",
       "    .dataframe thead th {\n",
       "        text-align: right;\n",
       "    }\n",
       "</style>\n",
       "<table border=\"1\" class=\"dataframe\">\n",
       "  <thead>\n",
       "    <tr style=\"text-align: right;\">\n",
       "      <th></th>\n",
       "      <th>CampaignType</th>\n",
       "      <th>CampaignTypeROI</th>\n",
       "    </tr>\n",
       "  </thead>\n",
       "  <tbody>\n",
       "    <tr>\n",
       "      <th>2</th>\n",
       "      <td>Conversion</td>\n",
       "      <td>0.000188</td>\n",
       "    </tr>\n",
       "    <tr>\n",
       "      <th>1</th>\n",
       "      <td>Consideration</td>\n",
       "      <td>0.000172</td>\n",
       "    </tr>\n",
       "    <tr>\n",
       "      <th>3</th>\n",
       "      <td>Retention</td>\n",
       "      <td>0.000171</td>\n",
       "    </tr>\n",
       "    <tr>\n",
       "      <th>0</th>\n",
       "      <td>Awareness</td>\n",
       "      <td>0.000169</td>\n",
       "    </tr>\n",
       "  </tbody>\n",
       "</table>\n",
       "</div>"
      ]
     },
     "execution_count": 148,
     "metadata": {},
     "output_type": "execute_result"
    }
   ],
   "execution_count": 148
  },
  {
   "cell_type": "code",
   "source": "print(f\"The ROI of each campaign type and campaign channel combination: \")\ndf_groupby_CampaignChannel_CampaignType1['CampaignTypeChannelROI'] = df_groupby_CampaignChannel_CampaignType1['AdSpend']/df_groupby_CampaignChannel_CampaignType1['Conversion']\ndf_groupby_CampaignChannel_CampaignType1[['CampaignChannel','CampaignType','CampaignTypeChannelROI']].sort_values(by='CampaignTypeChannelROI',ascending=False)",
   "metadata": {
    "execution": {
     "iopub.status.busy": "2024-09-06T17:37:56.356285Z",
     "iopub.execute_input": "2024-09-06T17:37:56.356589Z",
     "iopub.status.idle": "2024-09-06T17:37:56.379106Z",
     "shell.execute_reply.started": "2024-09-06T17:37:56.356564Z",
     "shell.execute_reply": "2024-09-06T17:37:56.377959Z"
    },
    "trusted": true,
    "ExecuteTime": {
     "end_time": "2024-09-07T08:12:32.786220Z",
     "start_time": "2024-09-07T08:12:32.778251Z"
    }
   },
   "outputs": [
    {
     "name": "stdout",
     "output_type": "stream",
     "text": [
      "The ROI of each campaign type and campaign channel combination: \n"
     ]
    },
    {
     "data": {
      "text/plain": [
       "   CampaignChannel   CampaignType  CampaignTypeChannelROI\n",
       "16    Social Media      Awareness             6164.753208\n",
       "3            Email      Retention             6163.325027\n",
       "12             SEO      Awareness             6046.769112\n",
       "9         Referral  Consideration             5852.584055\n",
       "7              PPC      Retention             5843.193301\n",
       "13             SEO  Consideration             5829.247546\n",
       "8         Referral      Awareness             5827.461147\n",
       "4              PPC      Awareness             5810.146538\n",
       "1            Email  Consideration             5803.341314\n",
       "0            Email      Awareness             5802.150667\n",
       "11        Referral      Retention             5787.647512\n",
       "5              PPC  Consideration             5758.744016\n",
       "17    Social Media  Consideration             5745.779182\n",
       "15             SEO      Retention             5738.956536\n",
       "19    Social Media      Retention             5727.279731\n",
       "2            Email     Conversion             5543.011284\n",
       "10        Referral     Conversion             5377.267924\n",
       "18    Social Media     Conversion             5264.148111\n",
       "14             SEO     Conversion             5240.318690\n",
       "6              PPC     Conversion             5137.650019"
      ],
      "text/html": [
       "<div>\n",
       "<style scoped>\n",
       "    .dataframe tbody tr th:only-of-type {\n",
       "        vertical-align: middle;\n",
       "    }\n",
       "\n",
       "    .dataframe tbody tr th {\n",
       "        vertical-align: top;\n",
       "    }\n",
       "\n",
       "    .dataframe thead th {\n",
       "        text-align: right;\n",
       "    }\n",
       "</style>\n",
       "<table border=\"1\" class=\"dataframe\">\n",
       "  <thead>\n",
       "    <tr style=\"text-align: right;\">\n",
       "      <th></th>\n",
       "      <th>CampaignChannel</th>\n",
       "      <th>CampaignType</th>\n",
       "      <th>CampaignTypeChannelROI</th>\n",
       "    </tr>\n",
       "  </thead>\n",
       "  <tbody>\n",
       "    <tr>\n",
       "      <th>16</th>\n",
       "      <td>Social Media</td>\n",
       "      <td>Awareness</td>\n",
       "      <td>6164.753208</td>\n",
       "    </tr>\n",
       "    <tr>\n",
       "      <th>3</th>\n",
       "      <td>Email</td>\n",
       "      <td>Retention</td>\n",
       "      <td>6163.325027</td>\n",
       "    </tr>\n",
       "    <tr>\n",
       "      <th>12</th>\n",
       "      <td>SEO</td>\n",
       "      <td>Awareness</td>\n",
       "      <td>6046.769112</td>\n",
       "    </tr>\n",
       "    <tr>\n",
       "      <th>9</th>\n",
       "      <td>Referral</td>\n",
       "      <td>Consideration</td>\n",
       "      <td>5852.584055</td>\n",
       "    </tr>\n",
       "    <tr>\n",
       "      <th>7</th>\n",
       "      <td>PPC</td>\n",
       "      <td>Retention</td>\n",
       "      <td>5843.193301</td>\n",
       "    </tr>\n",
       "    <tr>\n",
       "      <th>13</th>\n",
       "      <td>SEO</td>\n",
       "      <td>Consideration</td>\n",
       "      <td>5829.247546</td>\n",
       "    </tr>\n",
       "    <tr>\n",
       "      <th>8</th>\n",
       "      <td>Referral</td>\n",
       "      <td>Awareness</td>\n",
       "      <td>5827.461147</td>\n",
       "    </tr>\n",
       "    <tr>\n",
       "      <th>4</th>\n",
       "      <td>PPC</td>\n",
       "      <td>Awareness</td>\n",
       "      <td>5810.146538</td>\n",
       "    </tr>\n",
       "    <tr>\n",
       "      <th>1</th>\n",
       "      <td>Email</td>\n",
       "      <td>Consideration</td>\n",
       "      <td>5803.341314</td>\n",
       "    </tr>\n",
       "    <tr>\n",
       "      <th>0</th>\n",
       "      <td>Email</td>\n",
       "      <td>Awareness</td>\n",
       "      <td>5802.150667</td>\n",
       "    </tr>\n",
       "    <tr>\n",
       "      <th>11</th>\n",
       "      <td>Referral</td>\n",
       "      <td>Retention</td>\n",
       "      <td>5787.647512</td>\n",
       "    </tr>\n",
       "    <tr>\n",
       "      <th>5</th>\n",
       "      <td>PPC</td>\n",
       "      <td>Consideration</td>\n",
       "      <td>5758.744016</td>\n",
       "    </tr>\n",
       "    <tr>\n",
       "      <th>17</th>\n",
       "      <td>Social Media</td>\n",
       "      <td>Consideration</td>\n",
       "      <td>5745.779182</td>\n",
       "    </tr>\n",
       "    <tr>\n",
       "      <th>15</th>\n",
       "      <td>SEO</td>\n",
       "      <td>Retention</td>\n",
       "      <td>5738.956536</td>\n",
       "    </tr>\n",
       "    <tr>\n",
       "      <th>19</th>\n",
       "      <td>Social Media</td>\n",
       "      <td>Retention</td>\n",
       "      <td>5727.279731</td>\n",
       "    </tr>\n",
       "    <tr>\n",
       "      <th>2</th>\n",
       "      <td>Email</td>\n",
       "      <td>Conversion</td>\n",
       "      <td>5543.011284</td>\n",
       "    </tr>\n",
       "    <tr>\n",
       "      <th>10</th>\n",
       "      <td>Referral</td>\n",
       "      <td>Conversion</td>\n",
       "      <td>5377.267924</td>\n",
       "    </tr>\n",
       "    <tr>\n",
       "      <th>18</th>\n",
       "      <td>Social Media</td>\n",
       "      <td>Conversion</td>\n",
       "      <td>5264.148111</td>\n",
       "    </tr>\n",
       "    <tr>\n",
       "      <th>14</th>\n",
       "      <td>SEO</td>\n",
       "      <td>Conversion</td>\n",
       "      <td>5240.318690</td>\n",
       "    </tr>\n",
       "    <tr>\n",
       "      <th>6</th>\n",
       "      <td>PPC</td>\n",
       "      <td>Conversion</td>\n",
       "      <td>5137.650019</td>\n",
       "    </tr>\n",
       "  </tbody>\n",
       "</table>\n",
       "</div>"
      ]
     },
     "execution_count": 149,
     "metadata": {},
     "output_type": "execute_result"
    }
   ],
   "execution_count": 149
  },
  {
   "cell_type": "markdown",
   "source": "When the campaign channel is PPC and the campaign type is conversion, the advertisement fee spent on each converted customer is the least.",
   "metadata": {}
  },
  {
   "metadata": {},
   "cell_type": "markdown",
   "source": ""
  },
  {
   "cell_type": "code",
   "source": "print(f\"The ROI of each campaign type and campaign channel combination: \")\ndf_groupby_CampaignChannel_CampaignType1['CampaignTypeChannelROI'] = df_groupby_CampaignChannel_CampaignType1['Conversion']/df_groupby_CampaignChannel_CampaignType1['AdSpend']\ndf_groupby_CampaignChannel_CampaignType1[['CampaignChannel','CampaignType','CampaignTypeChannelROI']].sort_values(by='CampaignTypeChannelROI',ascending=False)",
   "metadata": {
    "execution": {
     "iopub.status.busy": "2024-09-06T17:37:56.380308Z",
     "iopub.execute_input": "2024-09-06T17:37:56.380630Z",
     "iopub.status.idle": "2024-09-06T17:37:56.407788Z",
     "shell.execute_reply.started": "2024-09-06T17:37:56.380602Z",
     "shell.execute_reply": "2024-09-06T17:37:56.406398Z"
    },
    "trusted": true,
    "ExecuteTime": {
     "end_time": "2024-09-07T08:12:32.940080Z",
     "start_time": "2024-09-07T08:12:32.931532Z"
    }
   },
   "outputs": [
    {
     "name": "stdout",
     "output_type": "stream",
     "text": [
      "The ROI of each campaign type and campaign channel combination: \n"
     ]
    },
    {
     "data": {
      "text/plain": [
       "   CampaignChannel   CampaignType  CampaignTypeChannelROI\n",
       "6              PPC     Conversion                0.000195\n",
       "14             SEO     Conversion                0.000191\n",
       "18    Social Media     Conversion                0.000190\n",
       "10        Referral     Conversion                0.000186\n",
       "2            Email     Conversion                0.000180\n",
       "19    Social Media      Retention                0.000175\n",
       "15             SEO      Retention                0.000174\n",
       "17    Social Media  Consideration                0.000174\n",
       "5              PPC  Consideration                0.000174\n",
       "11        Referral      Retention                0.000173\n",
       "0            Email      Awareness                0.000172\n",
       "1            Email  Consideration                0.000172\n",
       "4              PPC      Awareness                0.000172\n",
       "8         Referral      Awareness                0.000172\n",
       "13             SEO  Consideration                0.000172\n",
       "7              PPC      Retention                0.000171\n",
       "9         Referral  Consideration                0.000171\n",
       "12             SEO      Awareness                0.000165\n",
       "3            Email      Retention                0.000162\n",
       "16    Social Media      Awareness                0.000162"
      ],
      "text/html": [
       "<div>\n",
       "<style scoped>\n",
       "    .dataframe tbody tr th:only-of-type {\n",
       "        vertical-align: middle;\n",
       "    }\n",
       "\n",
       "    .dataframe tbody tr th {\n",
       "        vertical-align: top;\n",
       "    }\n",
       "\n",
       "    .dataframe thead th {\n",
       "        text-align: right;\n",
       "    }\n",
       "</style>\n",
       "<table border=\"1\" class=\"dataframe\">\n",
       "  <thead>\n",
       "    <tr style=\"text-align: right;\">\n",
       "      <th></th>\n",
       "      <th>CampaignChannel</th>\n",
       "      <th>CampaignType</th>\n",
       "      <th>CampaignTypeChannelROI</th>\n",
       "    </tr>\n",
       "  </thead>\n",
       "  <tbody>\n",
       "    <tr>\n",
       "      <th>6</th>\n",
       "      <td>PPC</td>\n",
       "      <td>Conversion</td>\n",
       "      <td>0.000195</td>\n",
       "    </tr>\n",
       "    <tr>\n",
       "      <th>14</th>\n",
       "      <td>SEO</td>\n",
       "      <td>Conversion</td>\n",
       "      <td>0.000191</td>\n",
       "    </tr>\n",
       "    <tr>\n",
       "      <th>18</th>\n",
       "      <td>Social Media</td>\n",
       "      <td>Conversion</td>\n",
       "      <td>0.000190</td>\n",
       "    </tr>\n",
       "    <tr>\n",
       "      <th>10</th>\n",
       "      <td>Referral</td>\n",
       "      <td>Conversion</td>\n",
       "      <td>0.000186</td>\n",
       "    </tr>\n",
       "    <tr>\n",
       "      <th>2</th>\n",
       "      <td>Email</td>\n",
       "      <td>Conversion</td>\n",
       "      <td>0.000180</td>\n",
       "    </tr>\n",
       "    <tr>\n",
       "      <th>19</th>\n",
       "      <td>Social Media</td>\n",
       "      <td>Retention</td>\n",
       "      <td>0.000175</td>\n",
       "    </tr>\n",
       "    <tr>\n",
       "      <th>15</th>\n",
       "      <td>SEO</td>\n",
       "      <td>Retention</td>\n",
       "      <td>0.000174</td>\n",
       "    </tr>\n",
       "    <tr>\n",
       "      <th>17</th>\n",
       "      <td>Social Media</td>\n",
       "      <td>Consideration</td>\n",
       "      <td>0.000174</td>\n",
       "    </tr>\n",
       "    <tr>\n",
       "      <th>5</th>\n",
       "      <td>PPC</td>\n",
       "      <td>Consideration</td>\n",
       "      <td>0.000174</td>\n",
       "    </tr>\n",
       "    <tr>\n",
       "      <th>11</th>\n",
       "      <td>Referral</td>\n",
       "      <td>Retention</td>\n",
       "      <td>0.000173</td>\n",
       "    </tr>\n",
       "    <tr>\n",
       "      <th>0</th>\n",
       "      <td>Email</td>\n",
       "      <td>Awareness</td>\n",
       "      <td>0.000172</td>\n",
       "    </tr>\n",
       "    <tr>\n",
       "      <th>1</th>\n",
       "      <td>Email</td>\n",
       "      <td>Consideration</td>\n",
       "      <td>0.000172</td>\n",
       "    </tr>\n",
       "    <tr>\n",
       "      <th>4</th>\n",
       "      <td>PPC</td>\n",
       "      <td>Awareness</td>\n",
       "      <td>0.000172</td>\n",
       "    </tr>\n",
       "    <tr>\n",
       "      <th>8</th>\n",
       "      <td>Referral</td>\n",
       "      <td>Awareness</td>\n",
       "      <td>0.000172</td>\n",
       "    </tr>\n",
       "    <tr>\n",
       "      <th>13</th>\n",
       "      <td>SEO</td>\n",
       "      <td>Consideration</td>\n",
       "      <td>0.000172</td>\n",
       "    </tr>\n",
       "    <tr>\n",
       "      <th>7</th>\n",
       "      <td>PPC</td>\n",
       "      <td>Retention</td>\n",
       "      <td>0.000171</td>\n",
       "    </tr>\n",
       "    <tr>\n",
       "      <th>9</th>\n",
       "      <td>Referral</td>\n",
       "      <td>Consideration</td>\n",
       "      <td>0.000171</td>\n",
       "    </tr>\n",
       "    <tr>\n",
       "      <th>12</th>\n",
       "      <td>SEO</td>\n",
       "      <td>Awareness</td>\n",
       "      <td>0.000165</td>\n",
       "    </tr>\n",
       "    <tr>\n",
       "      <th>3</th>\n",
       "      <td>Email</td>\n",
       "      <td>Retention</td>\n",
       "      <td>0.000162</td>\n",
       "    </tr>\n",
       "    <tr>\n",
       "      <th>16</th>\n",
       "      <td>Social Media</td>\n",
       "      <td>Awareness</td>\n",
       "      <td>0.000162</td>\n",
       "    </tr>\n",
       "  </tbody>\n",
       "</table>\n",
       "</div>"
      ]
     },
     "execution_count": 150,
     "metadata": {},
     "output_type": "execute_result"
    }
   ],
   "execution_count": 150
  },
  {
   "cell_type": "markdown",
   "source": "Based on the ROI analysis, when the campaign channel is PPC and the campaign type is conversion, the ROI is the highest. This is to say the advertisement is doing well.",
   "metadata": {}
  },
  {
   "cell_type": "markdown",
   "source": "# **Model Training**",
   "metadata": {}
  },
  {
   "cell_type": "markdown",
   "source": "Based on the analysis of the behavior data of customers, the ClickThroughRate, WebstieVisits, TimeOnSite, SocialShares, PreviousPurchases and LoyaltyPoints are important features that will be used to trin a machine learing model to predict whether or not a customer will become a buyer.",
   "metadata": {}
  },
  {
   "cell_type": "markdown",
   "source": "## Next, I am going to train \n\n#### the logistic regression model, \n#### the decision tree model, \n#### the random forest model and \n#### the support vector machine model.\n\n#### And then use the k-Nearest Neighobors, and boosting methods (XGBoost, AdaBoost and Gradient Boosting) and Bagging methods to enhance the trained models.",
   "metadata": {}
  },
  {
   "cell_type": "code",
   "source": "import pandas as pd\nfrom sklearn.model_selection import train_test_split\nfrom sklearn.preprocessing import StandardScaler\nfrom sklearn.linear_model import LogisticRegression\nfrom sklearn.tree import DecisionTreeClassifier\nfrom sklearn.ensemble import RandomForestClassifier, VotingClassifier\nfrom sklearn.svm import SVC\nfrom sklearn.neighbors import KNeighborsClassifier\nfrom sklearn.metrics import accuracy_score\n\n\nfeatures = ['ClickThroughRate', 'WebsiteVisits', 'TimeOnSite', 'SocialShares', \n            'PreviousPurchases', 'LoyaltyPoints']\nX = df[features]\ny = df['Conversion'] \n\nX_train, X_test, y_train, y_test = train_test_split(X, y, test_size=0.3, random_state=42)\n\nscaler = StandardScaler()\nX_train = scaler.fit_transform(X_train)\nX_test = scaler.transform(X_test)\n\nlog_reg = LogisticRegression()\nlog_reg.fit(X_train, y_train)\n\ndecision_tree = DecisionTreeClassifier(random_state=42)\ndecision_tree.fit(X_train, y_train)\n\nrandom_forest = RandomForestClassifier(random_state=42)\nrandom_forest.fit(X_train, y_train)\n\nsvm = SVC(probability=True, random_state=42)\nsvm.fit(X_train, y_train)\n\nmodels = {\n    'Logistic Regression': log_reg,\n    'Decision Tree': decision_tree,\n    'Random Forest': random_forest,\n    'SVM': svm\n}\n\nfor name, model in models.items():\n    y_pred = model.predict(X_test)\n    print(f'{name} Accuracy: {accuracy_score(y_test, y_pred):.2f}')\n\nensemble_model = VotingClassifier(\n    estimators=[\n        ('log_reg', log_reg),\n        ('decision_tree', decision_tree),\n        ('random_forest', random_forest),\n        ('svm', svm)\n    ],\n    voting='soft' \n)\nensemble_model.fit(X_train, y_train)\n\ny_pred_ensemble = ensemble_model.predict(X_test)\nprint(f'Ensemble Model Accuracy: {accuracy_score(y_test, y_pred_ensemble):.2f}')\n\nknn = KNeighborsClassifier(n_neighbors=5)\nknn.fit(X_train, y_train)\n\ny_pred_knn = knn.predict(X_test)\nprint(f'K-Nearest Neighbors Accuracy: {accuracy_score(y_test, y_pred_knn):.2f}')",
   "metadata": {
    "execution": {
     "iopub.status.busy": "2024-09-06T17:37:56.409449Z",
     "iopub.execute_input": "2024-09-06T17:37:56.409799Z",
     "iopub.status.idle": "2024-09-06T17:38:10.368160Z",
     "shell.execute_reply.started": "2024-09-06T17:37:56.409768Z",
     "shell.execute_reply": "2024-09-06T17:38:10.366525Z"
    },
    "trusted": true,
    "ExecuteTime": {
     "end_time": "2024-09-07T09:22:37.966285Z",
     "start_time": "2024-09-07T09:22:31.577965Z"
    }
   },
   "outputs": [
    {
     "name": "stdout",
     "output_type": "stream",
     "text": [
      "Logistic Regression Accuracy: 0.88\n",
      "Decision Tree Accuracy: 0.79\n",
      "Random Forest Accuracy: 0.88\n",
      "SVM Accuracy: 0.88\n",
      "Ensemble Model Accuracy: 0.88\n",
      "K-Nearest Neighbors Accuracy: 0.87\n"
     ]
    }
   ],
   "execution_count": 160
  },
  {
   "cell_type": "code",
   "source": [
    "from sklearn.ensemble import AdaBoostClassifier, GradientBoostingClassifier, BaggingClassifier\n",
    "from xgboost import XGBClassifier\n",
    "\n",
    "xgb = XGBClassifier(random_state=42)\n",
    "xgb.fit(X_train, y_train)\n",
    "y_pred_xgb = xgb.predict(X_test)\n",
    "print(f'XGBoost Accuracy: {accuracy_score(y_test, y_pred_xgb):.2f}')\n",
    "\n",
    "gradient_boost = GradientBoostingClassifier(random_state=42)\n",
    "gradient_boost.fit(X_train, y_train)\n",
    "y_pred_gradient_boost = gradient_boost.predict(X_test)\n",
    "print(f'Gradient Boosting Accuracy: {accuracy_score(y_test, y_pred_gradient_boost):.2f}')\n"
   ],
   "metadata": {
    "execution": {
     "iopub.status.busy": "2024-09-06T17:38:10.369427Z",
     "iopub.execute_input": "2024-09-06T17:38:10.369857Z",
     "iopub.status.idle": "2024-09-06T17:38:12.058248Z",
     "shell.execute_reply.started": "2024-09-06T17:38:10.369820Z",
     "shell.execute_reply": "2024-09-06T17:38:12.056994Z"
    },
    "trusted": true,
    "ExecuteTime": {
     "end_time": "2024-09-07T09:24:30.600112Z",
     "start_time": "2024-09-07T09:24:29.663469Z"
    }
   },
   "outputs": [
    {
     "name": "stdout",
     "output_type": "stream",
     "text": [
      "XGBoost Accuracy: 0.87\n",
      "Gradient Boosting Accuracy: 0.88\n"
     ]
    }
   ],
   "execution_count": 164
  },
  {
   "cell_type": "markdown",
   "source": "Therefore, based on the accuracy of all the models and the enhancing methods, the one method that is selected is the ensemble_model.",
   "metadata": {}
  },
  {
   "metadata": {
    "ExecuteTime": {
     "end_time": "2024-09-07T09:26:05.133644Z",
     "start_time": "2024-09-07T09:26:05.121556Z"
    }
   },
   "cell_type": "code",
   "source": "\n",
   "outputs": [],
   "execution_count": 169
  },
  {
   "metadata": {},
   "cell_type": "code",
   "outputs": [],
   "execution_count": null,
   "source": ""
  }
 ]
}
